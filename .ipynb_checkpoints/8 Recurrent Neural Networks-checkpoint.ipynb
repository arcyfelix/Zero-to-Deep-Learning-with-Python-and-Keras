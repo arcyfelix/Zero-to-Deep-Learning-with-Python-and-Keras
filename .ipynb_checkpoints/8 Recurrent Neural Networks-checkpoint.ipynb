{
 "cells": [
  {
   "cell_type": "markdown",
   "metadata": {
    "deletable": true,
    "editable": true
   },
   "source": [
    "# Recurrent Neural Networks"
   ]
  },
  {
   "cell_type": "code",
   "execution_count": 1,
   "metadata": {
    "collapsed": true,
    "deletable": true,
    "editable": true
   },
   "outputs": [],
   "source": [
    "import pandas as pd\n",
    "import numpy as np\n",
    "%matplotlib inline\n",
    "import matplotlib.pyplot as plt"
   ]
  },
  {
   "cell_type": "markdown",
   "metadata": {
    "deletable": true,
    "editable": true
   },
   "source": [
    "## Time series forecasting"
   ]
  },
  {
   "cell_type": "code",
   "execution_count": 2,
   "metadata": {
    "collapsed": false,
    "deletable": true,
    "editable": true
   },
   "outputs": [
    {
     "data": {
      "text/html": [
       "<div>\n",
       "<table border=\"1\" class=\"dataframe\">\n",
       "  <thead>\n",
       "    <tr style=\"text-align: right;\">\n",
       "      <th></th>\n",
       "      <th>Adjustments</th>\n",
       "      <th>Unadjusted</th>\n",
       "      <th>Seasonally adjusted</th>\n",
       "    </tr>\n",
       "  </thead>\n",
       "  <tbody>\n",
       "    <tr>\n",
       "      <th>0</th>\n",
       "      <td>Jan-1991</td>\n",
       "      <td>12588862</td>\n",
       "      <td>15026890</td>\n",
       "    </tr>\n",
       "    <tr>\n",
       "      <th>1</th>\n",
       "      <td>Feb-1991</td>\n",
       "      <td>12154321</td>\n",
       "      <td>15304585</td>\n",
       "    </tr>\n",
       "    <tr>\n",
       "      <th>2</th>\n",
       "      <td>Mar-1991</td>\n",
       "      <td>14337072</td>\n",
       "      <td>15413591</td>\n",
       "    </tr>\n",
       "    <tr>\n",
       "      <th>3</th>\n",
       "      <td>Apr-1991</td>\n",
       "      <td>15108570</td>\n",
       "      <td>15293409</td>\n",
       "    </tr>\n",
       "    <tr>\n",
       "      <th>4</th>\n",
       "      <td>May-1991</td>\n",
       "      <td>17225734</td>\n",
       "      <td>15676083</td>\n",
       "    </tr>\n",
       "  </tbody>\n",
       "</table>\n",
       "</div>"
      ],
      "text/plain": [
       "  Adjustments  Unadjusted  Seasonally adjusted\n",
       "0    Jan-1991    12588862             15026890\n",
       "1    Feb-1991    12154321             15304585\n",
       "2    Mar-1991    14337072             15413591\n",
       "3    Apr-1991    15108570             15293409\n",
       "4    May-1991    17225734             15676083"
      ]
     },
     "execution_count": 2,
     "metadata": {},
     "output_type": "execute_result"
    }
   ],
   "source": [
    "df = pd.read_csv('./data/cansim-0800020-eng-6674700030567901031.csv',\n",
    "                 skiprows=6, skipfooter=9,\n",
    "                 engine='python')\n",
    "df.head()"
   ]
  },
  {
   "cell_type": "code",
   "execution_count": 3,
   "metadata": {
    "collapsed": true,
    "deletable": true,
    "editable": true
   },
   "outputs": [],
   "source": [
    "from pandas.tseries.offsets import MonthEnd"
   ]
  },
  {
   "cell_type": "code",
   "execution_count": 4,
   "metadata": {
    "collapsed": false,
    "deletable": true,
    "editable": true
   },
   "outputs": [
    {
     "data": {
      "text/html": [
       "<div>\n",
       "<table border=\"1\" class=\"dataframe\">\n",
       "  <thead>\n",
       "    <tr style=\"text-align: right;\">\n",
       "      <th></th>\n",
       "      <th>Unadjusted</th>\n",
       "      <th>Seasonally adjusted</th>\n",
       "    </tr>\n",
       "    <tr>\n",
       "      <th>Adjustments</th>\n",
       "      <th></th>\n",
       "      <th></th>\n",
       "    </tr>\n",
       "  </thead>\n",
       "  <tbody>\n",
       "    <tr>\n",
       "      <th>1991-01-31</th>\n",
       "      <td>12588862</td>\n",
       "      <td>15026890</td>\n",
       "    </tr>\n",
       "    <tr>\n",
       "      <th>1991-02-28</th>\n",
       "      <td>12154321</td>\n",
       "      <td>15304585</td>\n",
       "    </tr>\n",
       "    <tr>\n",
       "      <th>1991-03-31</th>\n",
       "      <td>14337072</td>\n",
       "      <td>15413591</td>\n",
       "    </tr>\n",
       "    <tr>\n",
       "      <th>1991-04-30</th>\n",
       "      <td>15108570</td>\n",
       "      <td>15293409</td>\n",
       "    </tr>\n",
       "    <tr>\n",
       "      <th>1991-05-31</th>\n",
       "      <td>17225734</td>\n",
       "      <td>15676083</td>\n",
       "    </tr>\n",
       "  </tbody>\n",
       "</table>\n",
       "</div>"
      ],
      "text/plain": [
       "             Unadjusted  Seasonally adjusted\n",
       "Adjustments                                 \n",
       "1991-01-31     12588862             15026890\n",
       "1991-02-28     12154321             15304585\n",
       "1991-03-31     14337072             15413591\n",
       "1991-04-30     15108570             15293409\n",
       "1991-05-31     17225734             15676083"
      ]
     },
     "execution_count": 4,
     "metadata": {},
     "output_type": "execute_result"
    }
   ],
   "source": [
    "df['Adjustments'] = pd.to_datetime(df['Adjustments']) + MonthEnd(1)\n",
    "df = df.set_index('Adjustments')\n",
    "df.head()"
   ]
  },
  {
   "cell_type": "code",
   "execution_count": 5,
   "metadata": {
    "collapsed": false,
    "deletable": true,
    "editable": true
   },
   "outputs": [
    {
     "data": {
      "text/plain": [
       "<matplotlib.axes._subplots.AxesSubplot at 0x7fc348406978>"
      ]
     },
     "execution_count": 5,
     "metadata": {},
     "output_type": "execute_result"
    },
    {
     "data": {
      "image/png": "[encoded data removed]",
      "text/plain": [
       "<matplotlib.figure.Figure at 0x7fc376a14828>"
      ]
     },
     "metadata": {},
     "output_type": "display_data"
    }
   ],
   "source": [
    "df.plot(figsize = (12,7))"
   ]
  },
  {
   "cell_type": "code",
   "execution_count": 6,
   "metadata": {
    "collapsed": true,
    "deletable": true,
    "editable": true
   },
   "outputs": [],
   "source": [
    "split_date = pd.Timestamp('01-01-2011')"
   ]
  },
  {
   "cell_type": "code",
   "execution_count": 7,
   "metadata": {
    "collapsed": true,
    "deletable": true,
    "editable": true
   },
   "outputs": [],
   "source": [
    "train = df.loc[:split_date, ['Unadjusted']]\n",
    "test = df.loc[split_date:, ['Unadjusted']]"
   ]
  },
  {
   "cell_type": "code",
   "execution_count": 8,
   "metadata": {
    "collapsed": false,
    "deletable": true,
    "editable": true
   },
   "outputs": [
    {
     "data": {
      "text/plain": [
       "<matplotlib.legend.Legend at 0x7fc34836d780>"
      ]
     },
     "execution_count": 8,
     "metadata": {},
     "output_type": "execute_result"
    },
    {
     "data": {
      "image/png": "[encoded data removed]",
      "text/plain": [
       "<matplotlib.figure.Figure at 0x7fc34836a4e0>"
      ]
     },
     "metadata": {},
     "output_type": "display_data"
    }
   ],
   "source": [
    "ax = train.plot()\n",
    "test.plot(ax = ax)\n",
    "plt.legend(['train', 'test'])"
   ]
  },
  {
   "cell_type": "code",
   "execution_count": 9,
   "metadata": {
    "collapsed": true,
    "deletable": true,
    "editable": true
   },
   "outputs": [],
   "source": [
    "from sklearn.preprocessing import MinMaxScaler\n",
    "\n",
    "sc = MinMaxScaler()\n",
    "\n",
    "# Tranforming only on the train data\n",
    "# Fit to it on the test data\n",
    "train_sc = sc.fit_transform(train)\n",
    "test_sc = sc.transform(test)"
   ]
  },
  {
   "cell_type": "code",
   "execution_count": 10,
   "metadata": {
    "collapsed": false,
    "deletable": true,
    "editable": true
   },
   "outputs": [
    {
     "data": {
      "text/plain": [
       "array([[ 0.01402033],\n",
       "       [ 0.        ],\n",
       "       [ 0.0704258 ],\n",
       "       [ 0.09531795]])"
      ]
     },
     "execution_count": 10,
     "metadata": {},
     "output_type": "execute_result"
    }
   ],
   "source": [
    "train_sc[:4]"
   ]
  },
  {
   "cell_type": "code",
   "execution_count": 11,
   "metadata": {
    "collapsed": true,
    "deletable": true,
    "editable": true
   },
   "outputs": [],
   "source": [
    "X_train = train_sc[:-1]\n",
    "y_train = train_sc[1:]\n",
    "\n",
    "X_test = test_sc[:-1]\n",
    "y_test = test_sc[1:]"
   ]
  },
  {
   "cell_type": "markdown",
   "metadata": {
    "deletable": true,
    "editable": true
   },
   "source": [
    "### Fully connected predictor"
   ]
  },
  {
   "cell_type": "code",
   "execution_count": 12,
   "metadata": {
    "collapsed": false,
    "deletable": true,
    "editable": true
   },
   "outputs": [
    {
     "name": "stderr",
     "output_type": "stream",
     "text": [
      "Using TensorFlow backend.\n"
     ]
    }
   ],
   "source": [
    "from keras.models import Sequential\n",
    "from keras.layers import Dense\n",
    "import keras.backend as K\n",
    "from keras.callbacks import EarlyStopping"
   ]
  },
  {
   "cell_type": "code",
   "execution_count": 13,
   "metadata": {
    "collapsed": false,
    "deletable": true,
    "editable": true
   },
   "outputs": [
    {
     "name": "stdout",
     "output_type": "stream",
     "text": [
      "_________________________________________________________________\n",
      "Layer (type)                 Output Shape              Param #   \n",
      "=================================================================\n",
      "dense_1 (Dense)              (None, 12)                24        \n",
      "_________________________________________________________________\n",
      "dense_2 (Dense)              (None, 1)                 13        \n",
      "=================================================================\n",
      "Total params: 37\n",
      "Trainable params: 37\n",
      "Non-trainable params: 0\n",
      "_________________________________________________________________\n"
     ]
    }
   ],
   "source": [
    "K.clear_session()\n",
    "\n",
    "model = Sequential()\n",
    "model.add(Dense(12, \n",
    "                input_dim = 1, \n",
    "                activation = 'relu'))\n",
    "model.add(Dense(1))\n",
    "model.compile(optimizer = 'adam', \n",
    "              loss = 'mean_squared_error', \n",
    "              metrics = ['mae'])\n",
    "model.summary()"
   ]
  },
  {
   "cell_type": "code",
   "execution_count": 14,
   "metadata": {
    "collapsed": true,
    "deletable": true,
    "editable": true
   },
   "outputs": [],
   "source": [
    "early_stop = EarlyStopping(monitor = 'loss', \n",
    "                           patience = 10, \n",
    "                           verbose = 1)"
   ]
  },
  {
   "cell_type": "code",
   "execution_count": 15,
   "metadata": {
    "collapsed": false,
    "deletable": true,
    "editable": true
   },
   "outputs": [
    {
     "name": "stdout",
     "output_type": "stream",
     "text": [
      "Epoch 1/200\n",
      "0s - loss: 0.2012 - mean_absolute_error: 0.3609\n",
      "Epoch 2/200\n",
      "0s - loss: 0.0498 - mean_absolute_error: 0.1731\n",
      "Epoch 3/200\n",
      "0s - loss: 0.0273 - mean_absolute_error: 0.1382\n",
      "Epoch 4/200\n",
      "0s - loss: 0.0238 - mean_absolute_error: 0.1312\n",
      "Epoch 5/200\n",
      "0s - loss: 0.0216 - mean_absolute_error: 0.1247\n",
      "Epoch 6/200\n",
      "0s - loss: 0.0197 - mean_absolute_error: 0.1184\n",
      "Epoch 7/200\n",
      "0s - loss: 0.0179 - mean_absolute_error: 0.1113\n",
      "Epoch 8/200\n",
      "0s - loss: 0.0162 - mean_absolute_error: 0.1046\n",
      "Epoch 9/200\n",
      "0s - loss: 0.0147 - mean_absolute_error: 0.0987\n",
      "Epoch 10/200\n",
      "0s - loss: 0.0136 - mean_absolute_error: 0.0930\n",
      "Epoch 11/200\n",
      "0s - loss: 0.0125 - mean_absolute_error: 0.0877\n",
      "Epoch 12/200\n",
      "0s - loss: 0.0117 - mean_absolute_error: 0.0831\n",
      "Epoch 13/200\n",
      "0s - loss: 0.0112 - mean_absolute_error: 0.0799\n",
      "Epoch 14/200\n",
      "0s - loss: 0.0108 - mean_absolute_error: 0.0762\n",
      "Epoch 15/200\n",
      "0s - loss: 0.0104 - mean_absolute_error: 0.0738\n",
      "Epoch 16/200\n",
      "0s - loss: 0.0102 - mean_absolute_error: 0.0721\n",
      "Epoch 17/200\n",
      "0s - loss: 0.0101 - mean_absolute_error: 0.0713\n",
      "Epoch 18/200\n",
      "0s - loss: 0.0101 - mean_absolute_error: 0.0697\n",
      "Epoch 19/200\n",
      "0s - loss: 0.0100 - mean_absolute_error: 0.0693\n",
      "Epoch 20/200\n",
      "0s - loss: 0.0098 - mean_absolute_error: 0.0686\n",
      "Epoch 21/200\n",
      "0s - loss: 0.0099 - mean_absolute_error: 0.0682\n",
      "Epoch 22/200\n",
      "0s - loss: 0.0098 - mean_absolute_error: 0.0679\n",
      "Epoch 23/200\n",
      "0s - loss: 0.0099 - mean_absolute_error: 0.0680\n",
      "Epoch 24/200\n",
      "0s - loss: 0.0098 - mean_absolute_error: 0.0677\n",
      "Epoch 25/200\n",
      "0s - loss: 0.0099 - mean_absolute_error: 0.0677\n",
      "Epoch 26/200\n",
      "0s - loss: 0.0097 - mean_absolute_error: 0.0673\n",
      "Epoch 27/200\n",
      "0s - loss: 0.0101 - mean_absolute_error: 0.0691\n",
      "Epoch 28/200\n",
      "0s - loss: 0.0100 - mean_absolute_error: 0.0677\n",
      "Epoch 29/200\n",
      "0s - loss: 0.0098 - mean_absolute_error: 0.0675\n",
      "Epoch 30/200\n",
      "0s - loss: 0.0098 - mean_absolute_error: 0.0668\n",
      "Epoch 31/200\n",
      "0s - loss: 0.0099 - mean_absolute_error: 0.0676\n",
      "Epoch 32/200\n",
      "0s - loss: 0.0098 - mean_absolute_error: 0.0674\n",
      "Epoch 33/200\n",
      "0s - loss: 0.0100 - mean_absolute_error: 0.0670\n",
      "Epoch 34/200\n",
      "0s - loss: 0.0099 - mean_absolute_error: 0.0674\n",
      "Epoch 35/200\n",
      "0s - loss: 0.0098 - mean_absolute_error: 0.0676\n",
      "Epoch 36/200\n",
      "0s - loss: 0.0099 - mean_absolute_error: 0.0672\n",
      "Epoch 37/200\n",
      "0s - loss: 0.0100 - mean_absolute_error: 0.0682\n",
      "Epoch 00036: early stopping\n"
     ]
    },
    {
     "data": {
      "text/plain": [
       "<keras.callbacks.History at 0x7fc331d877f0>"
      ]
     },
     "execution_count": 15,
     "metadata": {},
     "output_type": "execute_result"
    }
   ],
   "source": [
    "model.fit(X_train, \n",
    "          y_train, \n",
    "          epochs = 200,\n",
    "          batch_size = 2, \n",
    "          verbose = 2,\n",
    "          callbacks = [early_stop])"
   ]
  },
  {
   "cell_type": "code",
   "execution_count": 16,
   "metadata": {
    "collapsed": true,
    "deletable": true,
    "editable": true
   },
   "outputs": [],
   "source": [
    "y_pred = model.predict(X_test)"
   ]
  },
  {
   "cell_type": "code",
   "execution_count": 17,
   "metadata": {
    "collapsed": false,
    "deletable": true,
    "editable": true
   },
   "outputs": [
    {
     "data": {
      "text/plain": [
       "[<matplotlib.lines.Line2D at 0x7fc34836d908>]"
      ]
     },
     "execution_count": 17,
     "metadata": {},
     "output_type": "execute_result"
    },
    {
     "data": {
      "image/png": "[encoded data removed]",
      "text/plain": [
       "<matplotlib.figure.Figure at 0x7fc34836deb8>"
      ]
     },
     "metadata": {},
     "output_type": "display_data"
    }
   ],
   "source": [
    "plt.plot(y_test)\n",
    "plt.plot(y_pred)"
   ]
  },
  {
   "cell_type": "markdown",
   "metadata": {
    "deletable": true,
    "editable": true
   },
   "source": [
    "### Recurrent predictor"
   ]
  },
  {
   "cell_type": "code",
   "execution_count": 18,
   "metadata": {
    "collapsed": true,
    "deletable": true,
    "editable": true
   },
   "outputs": [],
   "source": [
    "from keras.layers import LSTM"
   ]
  },
  {
   "cell_type": "code",
   "execution_count": 19,
   "metadata": {
    "collapsed": false,
    "deletable": true,
    "editable": true
   },
   "outputs": [
    {
     "data": {
      "text/plain": [
       "(239, 1)"
      ]
     },
     "execution_count": 19,
     "metadata": {},
     "output_type": "execute_result"
    }
   ],
   "source": [
    "X_train.shape"
   ]
  },
  {
   "cell_type": "code",
   "execution_count": 20,
   "metadata": {
    "collapsed": false,
    "deletable": true,
    "editable": true
   },
   "outputs": [
    {
     "data": {
      "text/plain": [
       "(239, 1, 1)"
      ]
     },
     "execution_count": 20,
     "metadata": {},
     "output_type": "execute_result"
    }
   ],
   "source": [
    "#3D tensor with shape (batch_size, timesteps, input_dim)\n",
    "X_train[:, None].shape"
   ]
  },
  {
   "cell_type": "code",
   "execution_count": 21,
   "metadata": {
    "collapsed": true,
    "deletable": true,
    "editable": true
   },
   "outputs": [],
   "source": [
    "X_train_t = X_train[:, None]\n",
    "X_test_t = X_test[:, None]"
   ]
  },
  {
   "cell_type": "code",
   "execution_count": 22,
   "metadata": {
    "collapsed": true,
    "deletable": true,
    "editable": true
   },
   "outputs": [],
   "source": [
    "K.clear_session()\n",
    "model = Sequential()\n",
    "\n",
    "model.add(LSTM(6, \n",
    "               input_shape = (1, 1)))\n",
    "\n",
    "model.add(Dense(1))\n",
    "\n",
    "model.compile(optimizer = 'adam', \n",
    "              loss = 'mean_squared_error', \n",
    "              metrics = ['mae'])"
   ]
  },
  {
   "cell_type": "code",
   "execution_count": 23,
   "metadata": {
    "collapsed": false,
    "deletable": true,
    "editable": true
   },
   "outputs": [
    {
     "name": "stdout",
     "output_type": "stream",
     "text": [
      "_________________________________________________________________\n",
      "Layer (type)                 Output Shape              Param #   \n",
      "=================================================================\n",
      "lstm_1 (LSTM)                (None, 6)                 192       \n",
      "_________________________________________________________________\n",
      "dense_1 (Dense)              (None, 1)                 7         \n",
      "=================================================================\n",
      "Total params: 199\n",
      "Trainable params: 199\n",
      "Non-trainable params: 0\n",
      "_________________________________________________________________\n"
     ]
    }
   ],
   "source": [
    "model.summary()"
   ]
  },
  {
   "cell_type": "code",
   "execution_count": 24,
   "metadata": {
    "collapsed": true,
    "deletable": true,
    "editable": true
   },
   "outputs": [],
   "source": [
    "early_stop = EarlyStopping(monitor = 'loss', \n",
    "                           patience = 10, \n",
    "                           verbose = 1)"
   ]
  },
  {
   "cell_type": "code",
   "execution_count": 25,
   "metadata": {
    "collapsed": false,
    "deletable": true,
    "editable": true
   },
   "outputs": [
    {
     "name": "stdout",
     "output_type": "stream",
     "text": [
      "Epoch 1/100\n",
      "1s - loss: 0.1535 - mean_absolute_error: 0.3082\n",
      "Epoch 2/100\n",
      "0s - loss: 0.0513 - mean_absolute_error: 0.1880\n",
      "Epoch 3/100\n",
      "1s - loss: 0.0390 - mean_absolute_error: 0.1694\n",
      "Epoch 4/100\n",
      "0s - loss: 0.0317 - mean_absolute_error: 0.1526\n",
      "Epoch 5/100\n",
      "1s - loss: 0.0261 - mean_absolute_error: 0.1375\n",
      "Epoch 6/100\n",
      "1s - loss: 0.0203 - mean_absolute_error: 0.1202\n",
      "Epoch 7/100\n",
      "0s - loss: 0.0159 - mean_absolute_error: 0.1037\n",
      "Epoch 8/100\n",
      "0s - loss: 0.0131 - mean_absolute_error: 0.0901\n",
      "Epoch 9/100\n",
      "0s - loss: 0.0117 - mean_absolute_error: 0.0824\n",
      "Epoch 10/100\n",
      "0s - loss: 0.0108 - mean_absolute_error: 0.0755\n",
      "Epoch 11/100\n",
      "0s - loss: 0.0104 - mean_absolute_error: 0.0719\n",
      "Epoch 12/100\n",
      "0s - loss: 0.0104 - mean_absolute_error: 0.0696\n",
      "Epoch 13/100\n",
      "0s - loss: 0.0101 - mean_absolute_error: 0.0696\n",
      "Epoch 14/100\n",
      "0s - loss: 0.0103 - mean_absolute_error: 0.0692\n",
      "Epoch 15/100\n",
      "0s - loss: 0.0103 - mean_absolute_error: 0.0700\n",
      "Epoch 16/100\n",
      "0s - loss: 0.0102 - mean_absolute_error: 0.0683\n",
      "Epoch 17/100\n",
      "0s - loss: 0.0101 - mean_absolute_error: 0.0683\n",
      "Epoch 18/100\n",
      "0s - loss: 0.0105 - mean_absolute_error: 0.0693\n",
      "Epoch 19/100\n",
      "0s - loss: 0.0102 - mean_absolute_error: 0.0686\n",
      "Epoch 20/100\n",
      "0s - loss: 0.0103 - mean_absolute_error: 0.0691\n",
      "Epoch 21/100\n",
      "0s - loss: 0.0104 - mean_absolute_error: 0.0694\n",
      "Epoch 22/100\n",
      "0s - loss: 0.0102 - mean_absolute_error: 0.0679\n",
      "Epoch 23/100\n",
      "0s - loss: 0.0103 - mean_absolute_error: 0.0682\n",
      "Epoch 24/100\n",
      "0s - loss: 0.0101 - mean_absolute_error: 0.0690\n",
      "Epoch 00023: early stopping\n"
     ]
    },
    {
     "data": {
      "text/plain": [
       "<keras.callbacks.History at 0x7fc328b42908>"
      ]
     },
     "execution_count": 25,
     "metadata": {},
     "output_type": "execute_result"
    }
   ],
   "source": [
    "model.fit(X_train_t, \n",
    "          y_train,\n",
    "          epochs = 100, \n",
    "          batch_size = 1, \n",
    "          verbose = 2,\n",
    "          callbacks=[early_stop])"
   ]
  },
  {
   "cell_type": "code",
   "execution_count": 26,
   "metadata": {
    "collapsed": false,
    "deletable": true,
    "editable": true
   },
   "outputs": [
    {
     "data": {
      "text/plain": [
       "[<matplotlib.lines.Line2D at 0x7fc34b0b3ba8>]"
      ]
     },
     "execution_count": 26,
     "metadata": {},
     "output_type": "execute_result"
    },
    {
     "data": {
      "image/png": "[encoded data removed]",
      "text/plain": [
       "<matplotlib.figure.Figure at 0x7fc33c4782e8>"
      ]
     },
     "metadata": {},
     "output_type": "display_data"
    }
   ],
   "source": [
    "y_pred = model.predict(X_test_t)\n",
    "plt.plot(y_test)\n",
    "plt.plot(y_pred)"
   ]
  },
  {
   "cell_type": "markdown",
   "metadata": {
    "deletable": true,
    "editable": true
   },
   "source": [
    "## Windows"
   ]
  },
  {
   "cell_type": "code",
   "execution_count": 27,
   "metadata": {
    "collapsed": false,
    "deletable": true,
    "editable": true
   },
   "outputs": [
    {
     "data": {
      "text/plain": [
       "(240, 1)"
      ]
     },
     "execution_count": 27,
     "metadata": {},
     "output_type": "execute_result"
    }
   ],
   "source": [
    "train_sc.shape"
   ]
  },
  {
   "cell_type": "code",
   "execution_count": 28,
   "metadata": {
    "collapsed": false,
    "deletable": true,
    "editable": true
   },
   "outputs": [
    {
     "data": {
      "text/html": [
       "<div>\n",
       "<table border=\"1\" class=\"dataframe\">\n",
       "  <thead>\n",
       "    <tr style=\"text-align: right;\">\n",
       "      <th></th>\n",
       "      <th>Scaled</th>\n",
       "    </tr>\n",
       "    <tr>\n",
       "      <th>Adjustments</th>\n",
       "      <th></th>\n",
       "    </tr>\n",
       "  </thead>\n",
       "  <tbody>\n",
       "    <tr>\n",
       "      <th>1991-01-31</th>\n",
       "      <td>0.014020</td>\n",
       "    </tr>\n",
       "    <tr>\n",
       "      <th>1991-02-28</th>\n",
       "      <td>0.000000</td>\n",
       "    </tr>\n",
       "    <tr>\n",
       "      <th>1991-03-31</th>\n",
       "      <td>0.070426</td>\n",
       "    </tr>\n",
       "    <tr>\n",
       "      <th>1991-04-30</th>\n",
       "      <td>0.095318</td>\n",
       "    </tr>\n",
       "    <tr>\n",
       "      <th>1991-05-31</th>\n",
       "      <td>0.163628</td>\n",
       "    </tr>\n",
       "  </tbody>\n",
       "</table>\n",
       "</div>"
      ],
      "text/plain": [
       "               Scaled\n",
       "Adjustments          \n",
       "1991-01-31   0.014020\n",
       "1991-02-28   0.000000\n",
       "1991-03-31   0.070426\n",
       "1991-04-30   0.095318\n",
       "1991-05-31   0.163628"
      ]
     },
     "execution_count": 28,
     "metadata": {},
     "output_type": "execute_result"
    }
   ],
   "source": [
    "train_sc_df = pd.DataFrame(train_sc, \n",
    "                           columns = ['Scaled'], \n",
    "                           index = train.index)\n",
    "test_sc_df = pd.DataFrame(test_sc, \n",
    "                          columns = ['Scaled'], \n",
    "                          index = test.index)\n",
    "train_sc_df.head()"
   ]
  },
  {
   "cell_type": "code",
   "execution_count": 29,
   "metadata": {
    "collapsed": true,
    "deletable": true,
    "editable": true
   },
   "outputs": [],
   "source": [
    "for s in range(1, 13):\n",
    "    train_sc_df['shift_{}'.format(s)] = train_sc_df['Scaled'].shift(s)\n",
    "    test_sc_df['shift_{}'.format(s)] = test_sc_df['Scaled'].shift(s)"
   ]
  },
  {
   "cell_type": "code",
   "execution_count": 30,
   "metadata": {
    "collapsed": false,
    "deletable": true,
    "editable": true
   },
   "outputs": [
    {
     "data": {
      "text/html": [
       "<div>\n",
       "<table border=\"1\" class=\"dataframe\">\n",
       "  <thead>\n",
       "    <tr style=\"text-align: right;\">\n",
       "      <th></th>\n",
       "      <th>Scaled</th>\n",
       "      <th>shift_1</th>\n",
       "      <th>shift_2</th>\n",
       "      <th>shift_3</th>\n",
       "      <th>shift_4</th>\n",
       "      <th>shift_5</th>\n",
       "      <th>shift_6</th>\n",
       "      <th>shift_7</th>\n",
       "      <th>shift_8</th>\n",
       "      <th>shift_9</th>\n",
       "      <th>shift_10</th>\n",
       "      <th>shift_11</th>\n",
       "      <th>shift_12</th>\n",
       "    </tr>\n",
       "    <tr>\n",
       "      <th>Adjustments</th>\n",
       "      <th></th>\n",
       "      <th></th>\n",
       "      <th></th>\n",
       "      <th></th>\n",
       "      <th></th>\n",
       "      <th></th>\n",
       "      <th></th>\n",
       "      <th></th>\n",
       "      <th></th>\n",
       "      <th></th>\n",
       "      <th></th>\n",
       "      <th></th>\n",
       "      <th></th>\n",
       "    </tr>\n",
       "  </thead>\n",
       "  <tbody>\n",
       "    <tr>\n",
       "      <th>1991-01-31</th>\n",
       "      <td>0.014020</td>\n",
       "      <td>NaN</td>\n",
       "      <td>NaN</td>\n",
       "      <td>NaN</td>\n",
       "      <td>NaN</td>\n",
       "      <td>NaN</td>\n",
       "      <td>NaN</td>\n",
       "      <td>NaN</td>\n",
       "      <td>NaN</td>\n",
       "      <td>NaN</td>\n",
       "      <td>NaN</td>\n",
       "      <td>NaN</td>\n",
       "      <td>NaN</td>\n",
       "    </tr>\n",
       "    <tr>\n",
       "      <th>1991-02-28</th>\n",
       "      <td>0.000000</td>\n",
       "      <td>0.014020</td>\n",
       "      <td>NaN</td>\n",
       "      <td>NaN</td>\n",
       "      <td>NaN</td>\n",
       "      <td>NaN</td>\n",
       "      <td>NaN</td>\n",
       "      <td>NaN</td>\n",
       "      <td>NaN</td>\n",
       "      <td>NaN</td>\n",
       "      <td>NaN</td>\n",
       "      <td>NaN</td>\n",
       "      <td>NaN</td>\n",
       "    </tr>\n",
       "    <tr>\n",
       "      <th>1991-03-31</th>\n",
       "      <td>0.070426</td>\n",
       "      <td>0.000000</td>\n",
       "      <td>0.014020</td>\n",
       "      <td>NaN</td>\n",
       "      <td>NaN</td>\n",
       "      <td>NaN</td>\n",
       "      <td>NaN</td>\n",
       "      <td>NaN</td>\n",
       "      <td>NaN</td>\n",
       "      <td>NaN</td>\n",
       "      <td>NaN</td>\n",
       "      <td>NaN</td>\n",
       "      <td>NaN</td>\n",
       "    </tr>\n",
       "    <tr>\n",
       "      <th>1991-04-30</th>\n",
       "      <td>0.095318</td>\n",
       "      <td>0.070426</td>\n",
       "      <td>0.000000</td>\n",
       "      <td>0.014020</td>\n",
       "      <td>NaN</td>\n",
       "      <td>NaN</td>\n",
       "      <td>NaN</td>\n",
       "      <td>NaN</td>\n",
       "      <td>NaN</td>\n",
       "      <td>NaN</td>\n",
       "      <td>NaN</td>\n",
       "      <td>NaN</td>\n",
       "      <td>NaN</td>\n",
       "    </tr>\n",
       "    <tr>\n",
       "      <th>1991-05-31</th>\n",
       "      <td>0.163628</td>\n",
       "      <td>0.095318</td>\n",
       "      <td>0.070426</td>\n",
       "      <td>0.000000</td>\n",
       "      <td>0.014020</td>\n",
       "      <td>NaN</td>\n",
       "      <td>NaN</td>\n",
       "      <td>NaN</td>\n",
       "      <td>NaN</td>\n",
       "      <td>NaN</td>\n",
       "      <td>NaN</td>\n",
       "      <td>NaN</td>\n",
       "      <td>NaN</td>\n",
       "    </tr>\n",
       "    <tr>\n",
       "      <th>1991-06-30</th>\n",
       "      <td>0.135141</td>\n",
       "      <td>0.163628</td>\n",
       "      <td>0.095318</td>\n",
       "      <td>0.070426</td>\n",
       "      <td>0.000000</td>\n",
       "      <td>0.014020</td>\n",
       "      <td>NaN</td>\n",
       "      <td>NaN</td>\n",
       "      <td>NaN</td>\n",
       "      <td>NaN</td>\n",
       "      <td>NaN</td>\n",
       "      <td>NaN</td>\n",
       "      <td>NaN</td>\n",
       "    </tr>\n",
       "    <tr>\n",
       "      <th>1991-07-31</th>\n",
       "      <td>0.123958</td>\n",
       "      <td>0.135141</td>\n",
       "      <td>0.163628</td>\n",
       "      <td>0.095318</td>\n",
       "      <td>0.070426</td>\n",
       "      <td>0.000000</td>\n",
       "      <td>0.014020</td>\n",
       "      <td>NaN</td>\n",
       "      <td>NaN</td>\n",
       "      <td>NaN</td>\n",
       "      <td>NaN</td>\n",
       "      <td>NaN</td>\n",
       "      <td>NaN</td>\n",
       "    </tr>\n",
       "    <tr>\n",
       "      <th>1991-08-31</th>\n",
       "      <td>0.126174</td>\n",
       "      <td>0.123958</td>\n",
       "      <td>0.135141</td>\n",
       "      <td>0.163628</td>\n",
       "      <td>0.095318</td>\n",
       "      <td>0.070426</td>\n",
       "      <td>0.000000</td>\n",
       "      <td>0.014020</td>\n",
       "      <td>NaN</td>\n",
       "      <td>NaN</td>\n",
       "      <td>NaN</td>\n",
       "      <td>NaN</td>\n",
       "      <td>NaN</td>\n",
       "    </tr>\n",
       "    <tr>\n",
       "      <th>1991-09-30</th>\n",
       "      <td>0.092309</td>\n",
       "      <td>0.126174</td>\n",
       "      <td>0.123958</td>\n",
       "      <td>0.135141</td>\n",
       "      <td>0.163628</td>\n",
       "      <td>0.095318</td>\n",
       "      <td>0.070426</td>\n",
       "      <td>0.000000</td>\n",
       "      <td>0.014020</td>\n",
       "      <td>NaN</td>\n",
       "      <td>NaN</td>\n",
       "      <td>NaN</td>\n",
       "      <td>NaN</td>\n",
       "    </tr>\n",
       "    <tr>\n",
       "      <th>1991-10-31</th>\n",
       "      <td>0.111395</td>\n",
       "      <td>0.092309</td>\n",
       "      <td>0.126174</td>\n",
       "      <td>0.123958</td>\n",
       "      <td>0.135141</td>\n",
       "      <td>0.163628</td>\n",
       "      <td>0.095318</td>\n",
       "      <td>0.070426</td>\n",
       "      <td>0.000000</td>\n",
       "      <td>0.014020</td>\n",
       "      <td>NaN</td>\n",
       "      <td>NaN</td>\n",
       "      <td>NaN</td>\n",
       "    </tr>\n",
       "    <tr>\n",
       "      <th>1991-11-30</th>\n",
       "      <td>0.131738</td>\n",
       "      <td>0.111395</td>\n",
       "      <td>0.092309</td>\n",
       "      <td>0.126174</td>\n",
       "      <td>0.123958</td>\n",
       "      <td>0.135141</td>\n",
       "      <td>0.163628</td>\n",
       "      <td>0.095318</td>\n",
       "      <td>0.070426</td>\n",
       "      <td>0.000000</td>\n",
       "      <td>0.014020</td>\n",
       "      <td>NaN</td>\n",
       "      <td>NaN</td>\n",
       "    </tr>\n",
       "    <tr>\n",
       "      <th>1991-12-31</th>\n",
       "      <td>0.200913</td>\n",
       "      <td>0.131738</td>\n",
       "      <td>0.111395</td>\n",
       "      <td>0.092309</td>\n",
       "      <td>0.126174</td>\n",
       "      <td>0.123958</td>\n",
       "      <td>0.135141</td>\n",
       "      <td>0.163628</td>\n",
       "      <td>0.095318</td>\n",
       "      <td>0.070426</td>\n",
       "      <td>0.000000</td>\n",
       "      <td>0.01402</td>\n",
       "      <td>NaN</td>\n",
       "    </tr>\n",
       "    <tr>\n",
       "      <th>1992-01-31</th>\n",
       "      <td>0.030027</td>\n",
       "      <td>0.200913</td>\n",
       "      <td>0.131738</td>\n",
       "      <td>0.111395</td>\n",
       "      <td>0.092309</td>\n",
       "      <td>0.126174</td>\n",
       "      <td>0.123958</td>\n",
       "      <td>0.135141</td>\n",
       "      <td>0.163628</td>\n",
       "      <td>0.095318</td>\n",
       "      <td>0.070426</td>\n",
       "      <td>0.00000</td>\n",
       "      <td>0.01402</td>\n",
       "    </tr>\n",
       "  </tbody>\n",
       "</table>\n",
       "</div>"
      ],
      "text/plain": [
       "               Scaled   shift_1   shift_2   shift_3   shift_4   shift_5  \\\n",
       "Adjustments                                                               \n",
       "1991-01-31   0.014020       NaN       NaN       NaN       NaN       NaN   \n",
       "1991-02-28   0.000000  0.014020       NaN       NaN       NaN       NaN   \n",
       "1991-03-31   0.070426  0.000000  0.014020       NaN       NaN       NaN   \n",
       "1991-04-30   0.095318  0.070426  0.000000  0.014020       NaN       NaN   \n",
       "1991-05-31   0.163628  0.095318  0.070426  0.000000  0.014020       NaN   \n",
       "1991-06-30   0.135141  0.163628  0.095318  0.070426  0.000000  0.014020   \n",
       "1991-07-31   0.123958  0.135141  0.163628  0.095318  0.070426  0.000000   \n",
       "1991-08-31   0.126174  0.123958  0.135141  0.163628  0.095318  0.070426   \n",
       "1991-09-30   0.092309  0.126174  0.123958  0.135141  0.163628  0.095318   \n",
       "1991-10-31   0.111395  0.092309  0.126174  0.123958  0.135141  0.163628   \n",
       "1991-11-30   0.131738  0.111395  0.092309  0.126174  0.123958  0.135141   \n",
       "1991-12-31   0.200913  0.131738  0.111395  0.092309  0.126174  0.123958   \n",
       "1992-01-31   0.030027  0.200913  0.131738  0.111395  0.092309  0.126174   \n",
       "\n",
       "              shift_6   shift_7   shift_8   shift_9  shift_10  shift_11  \\\n",
       "Adjustments                                                               \n",
       "1991-01-31        NaN       NaN       NaN       NaN       NaN       NaN   \n",
       "1991-02-28        NaN       NaN       NaN       NaN       NaN       NaN   \n",
       "1991-03-31        NaN       NaN       NaN       NaN       NaN       NaN   \n",
       "1991-04-30        NaN       NaN       NaN       NaN       NaN       NaN   \n",
       "1991-05-31        NaN       NaN       NaN       NaN       NaN       NaN   \n",
       "1991-06-30        NaN       NaN       NaN       NaN       NaN       NaN   \n",
       "1991-07-31   0.014020       NaN       NaN       NaN       NaN       NaN   \n",
       "1991-08-31   0.000000  0.014020       NaN       NaN       NaN       NaN   \n",
       "1991-09-30   0.070426  0.000000  0.014020       NaN       NaN       NaN   \n",
       "1991-10-31   0.095318  0.070426  0.000000  0.014020       NaN       NaN   \n",
       "1991-11-30   0.163628  0.095318  0.070426  0.000000  0.014020       NaN   \n",
       "1991-12-31   0.135141  0.163628  0.095318  0.070426  0.000000   0.01402   \n",
       "1992-01-31   0.123958  0.135141  0.163628  0.095318  0.070426   0.00000   \n",
       "\n",
       "             shift_12  \n",
       "Adjustments            \n",
       "1991-01-31        NaN  \n",
       "1991-02-28        NaN  \n",
       "1991-03-31        NaN  \n",
       "1991-04-30        NaN  \n",
       "1991-05-31        NaN  \n",
       "1991-06-30        NaN  \n",
       "1991-07-31        NaN  \n",
       "1991-08-31        NaN  \n",
       "1991-09-30        NaN  \n",
       "1991-10-31        NaN  \n",
       "1991-11-30        NaN  \n",
       "1991-12-31        NaN  \n",
       "1992-01-31    0.01402  "
      ]
     },
     "execution_count": 30,
     "metadata": {},
     "output_type": "execute_result"
    }
   ],
   "source": [
    "train_sc_df.head(13)"
   ]
  },
  {
   "cell_type": "code",
   "execution_count": 31,
   "metadata": {
    "collapsed": true,
    "deletable": true,
    "editable": true
   },
   "outputs": [],
   "source": [
    "X_train = train_sc_df.dropna().drop('Scaled', axis=1)\n",
    "y_train = train_sc_df.dropna()[['Scaled']]\n",
    "\n",
    "X_test = test_sc_df.dropna().drop('Scaled', axis=1)\n",
    "y_test = test_sc_df.dropna()[['Scaled']]"
   ]
  },
  {
   "cell_type": "code",
   "execution_count": 32,
   "metadata": {
    "collapsed": false,
    "deletable": true,
    "editable": true
   },
   "outputs": [
    {
     "data": {
      "text/html": [
       "<div>\n",
       "<table border=\"1\" class=\"dataframe\">\n",
       "  <thead>\n",
       "    <tr style=\"text-align: right;\">\n",
       "      <th></th>\n",
       "      <th>shift_1</th>\n",
       "      <th>shift_2</th>\n",
       "      <th>shift_3</th>\n",
       "      <th>shift_4</th>\n",
       "      <th>shift_5</th>\n",
       "      <th>shift_6</th>\n",
       "      <th>shift_7</th>\n",
       "      <th>shift_8</th>\n",
       "      <th>shift_9</th>\n",
       "      <th>shift_10</th>\n",
       "      <th>shift_11</th>\n",
       "      <th>shift_12</th>\n",
       "    </tr>\n",
       "    <tr>\n",
       "      <th>Adjustments</th>\n",
       "      <th></th>\n",
       "      <th></th>\n",
       "      <th></th>\n",
       "      <th></th>\n",
       "      <th></th>\n",
       "      <th></th>\n",
       "      <th></th>\n",
       "      <th></th>\n",
       "      <th></th>\n",
       "      <th></th>\n",
       "      <th></th>\n",
       "      <th></th>\n",
       "    </tr>\n",
       "  </thead>\n",
       "  <tbody>\n",
       "    <tr>\n",
       "      <th>1992-01-31</th>\n",
       "      <td>0.200913</td>\n",
       "      <td>0.131738</td>\n",
       "      <td>0.111395</td>\n",
       "      <td>0.092309</td>\n",
       "      <td>0.126174</td>\n",
       "      <td>0.123958</td>\n",
       "      <td>0.135141</td>\n",
       "      <td>0.163628</td>\n",
       "      <td>0.095318</td>\n",
       "      <td>0.070426</td>\n",
       "      <td>0.000000</td>\n",
       "      <td>0.014020</td>\n",
       "    </tr>\n",
       "    <tr>\n",
       "      <th>1992-02-29</th>\n",
       "      <td>0.030027</td>\n",
       "      <td>0.200913</td>\n",
       "      <td>0.131738</td>\n",
       "      <td>0.111395</td>\n",
       "      <td>0.092309</td>\n",
       "      <td>0.126174</td>\n",
       "      <td>0.123958</td>\n",
       "      <td>0.135141</td>\n",
       "      <td>0.163628</td>\n",
       "      <td>0.095318</td>\n",
       "      <td>0.070426</td>\n",
       "      <td>0.000000</td>\n",
       "    </tr>\n",
       "    <tr>\n",
       "      <th>1992-03-31</th>\n",
       "      <td>0.019993</td>\n",
       "      <td>0.030027</td>\n",
       "      <td>0.200913</td>\n",
       "      <td>0.131738</td>\n",
       "      <td>0.111395</td>\n",
       "      <td>0.092309</td>\n",
       "      <td>0.126174</td>\n",
       "      <td>0.123958</td>\n",
       "      <td>0.135141</td>\n",
       "      <td>0.163628</td>\n",
       "      <td>0.095318</td>\n",
       "      <td>0.070426</td>\n",
       "    </tr>\n",
       "    <tr>\n",
       "      <th>1992-04-30</th>\n",
       "      <td>0.065964</td>\n",
       "      <td>0.019993</td>\n",
       "      <td>0.030027</td>\n",
       "      <td>0.200913</td>\n",
       "      <td>0.131738</td>\n",
       "      <td>0.111395</td>\n",
       "      <td>0.092309</td>\n",
       "      <td>0.126174</td>\n",
       "      <td>0.123958</td>\n",
       "      <td>0.135141</td>\n",
       "      <td>0.163628</td>\n",
       "      <td>0.095318</td>\n",
       "    </tr>\n",
       "    <tr>\n",
       "      <th>1992-05-31</th>\n",
       "      <td>0.109831</td>\n",
       "      <td>0.065964</td>\n",
       "      <td>0.019993</td>\n",
       "      <td>0.030027</td>\n",
       "      <td>0.200913</td>\n",
       "      <td>0.131738</td>\n",
       "      <td>0.111395</td>\n",
       "      <td>0.092309</td>\n",
       "      <td>0.126174</td>\n",
       "      <td>0.123958</td>\n",
       "      <td>0.135141</td>\n",
       "      <td>0.163628</td>\n",
       "    </tr>\n",
       "  </tbody>\n",
       "</table>\n",
       "</div>"
      ],
      "text/plain": [
       "              shift_1   shift_2   shift_3   shift_4   shift_5   shift_6  \\\n",
       "Adjustments                                                               \n",
       "1992-01-31   0.200913  0.131738  0.111395  0.092309  0.126174  0.123958   \n",
       "1992-02-29   0.030027  0.200913  0.131738  0.111395  0.092309  0.126174   \n",
       "1992-03-31   0.019993  0.030027  0.200913  0.131738  0.111395  0.092309   \n",
       "1992-04-30   0.065964  0.019993  0.030027  0.200913  0.131738  0.111395   \n",
       "1992-05-31   0.109831  0.065964  0.019993  0.030027  0.200913  0.131738   \n",
       "\n",
       "              shift_7   shift_8   shift_9  shift_10  shift_11  shift_12  \n",
       "Adjustments                                                              \n",
       "1992-01-31   0.135141  0.163628  0.095318  0.070426  0.000000  0.014020  \n",
       "1992-02-29   0.123958  0.135141  0.163628  0.095318  0.070426  0.000000  \n",
       "1992-03-31   0.126174  0.123958  0.135141  0.163628  0.095318  0.070426  \n",
       "1992-04-30   0.092309  0.126174  0.123958  0.135141  0.163628  0.095318  \n",
       "1992-05-31   0.111395  0.092309  0.126174  0.123958  0.135141  0.163628  "
      ]
     },
     "execution_count": 32,
     "metadata": {},
     "output_type": "execute_result"
    }
   ],
   "source": [
    "X_train.head()"
   ]
  },
  {
   "cell_type": "code",
   "execution_count": 33,
   "metadata": {
    "collapsed": false,
    "deletable": true,
    "editable": true
   },
   "outputs": [
    {
     "data": {
      "text/plain": [
       "(228, 12)"
      ]
     },
     "execution_count": 33,
     "metadata": {},
     "output_type": "execute_result"
    }
   ],
   "source": [
    "X_train.shape"
   ]
  },
  {
   "cell_type": "code",
   "execution_count": 34,
   "metadata": {
    "collapsed": true,
    "deletable": true,
    "editable": true
   },
   "outputs": [],
   "source": [
    "X_train = X_train.values\n",
    "X_test= X_test.values\n",
    "\n",
    "y_train = y_train.values\n",
    "y_test = y_test.values"
   ]
  },
  {
   "cell_type": "markdown",
   "metadata": {
    "deletable": true,
    "editable": true
   },
   "source": [
    "### Fully Connected on Windows"
   ]
  },
  {
   "cell_type": "code",
   "execution_count": 35,
   "metadata": {
    "collapsed": false,
    "deletable": true,
    "editable": true,
    "scrolled": true
   },
   "outputs": [
    {
     "name": "stdout",
     "output_type": "stream",
     "text": [
      "_________________________________________________________________\n",
      "Layer (type)                 Output Shape              Param #   \n",
      "=================================================================\n",
      "dense_1 (Dense)              (None, 12)                156       \n",
      "_________________________________________________________________\n",
      "dense_2 (Dense)              (None, 1)                 13        \n",
      "=================================================================\n",
      "Total params: 169\n",
      "Trainable params: 169\n",
      "Non-trainable params: 0\n",
      "_________________________________________________________________\n"
     ]
    }
   ],
   "source": [
    "K.clear_session()\n",
    "\n",
    "model = Sequential()\n",
    "model.add(Dense(12, \n",
    "                input_dim = 12, \n",
    "                activation = 'relu'))\n",
    "model.add(Dense(1))\n",
    "model.compile(optimizer = 'adam', \n",
    "              loss = 'mean_squared_error', \n",
    "              metrics = ['mae'])\n",
    "model.summary()"
   ]
  },
  {
   "cell_type": "code",
   "execution_count": 36,
   "metadata": {
    "collapsed": true,
    "deletable": true,
    "editable": true
   },
   "outputs": [],
   "source": [
    "early_stop = EarlyStopping(monitor = 'loss', \n",
    "                           patience = 10, \n",
    "                           verbose = 1)"
   ]
  },
  {
   "cell_type": "code",
   "execution_count": 37,
   "metadata": {
    "collapsed": false,
    "deletable": true,
    "editable": true
   },
   "outputs": [
    {
     "name": "stdout",
     "output_type": "stream",
     "text": [
      "Epoch 1/200\n",
      "0s - loss: 0.0530 - mean_absolute_error: 0.1460\n",
      "Epoch 2/200\n",
      "0s - loss: 0.0049 - mean_absolute_error: 0.0561\n",
      "Epoch 3/200\n",
      "0s - loss: 0.0036 - mean_absolute_error: 0.0456\n",
      "Epoch 4/200\n",
      "0s - loss: 0.0031 - mean_absolute_error: 0.0414\n",
      "Epoch 5/200\n",
      "0s - loss: 0.0028 - mean_absolute_error: 0.0396\n",
      "Epoch 6/200\n",
      "0s - loss: 0.0026 - mean_absolute_error: 0.0380\n",
      "Epoch 7/200\n",
      "0s - loss: 0.0024 - mean_absolute_error: 0.0368\n",
      "Epoch 8/200\n",
      "0s - loss: 0.0023 - mean_absolute_error: 0.0346\n",
      "Epoch 9/200\n",
      "0s - loss: 0.0021 - mean_absolute_error: 0.0337\n",
      "Epoch 10/200\n",
      "0s - loss: 0.0023 - mean_absolute_error: 0.0345\n",
      "Epoch 11/200\n",
      "0s - loss: 0.0020 - mean_absolute_error: 0.0324\n",
      "Epoch 12/200\n",
      "0s - loss: 0.0018 - mean_absolute_error: 0.0310\n",
      "Epoch 13/200\n",
      "0s - loss: 0.0018 - mean_absolute_error: 0.0304\n",
      "Epoch 14/200\n",
      "0s - loss: 0.0017 - mean_absolute_error: 0.0307\n",
      "Epoch 15/200\n",
      "0s - loss: 0.0018 - mean_absolute_error: 0.0319\n",
      "Epoch 16/200\n",
      "0s - loss: 0.0016 - mean_absolute_error: 0.0304\n",
      "Epoch 17/200\n",
      "0s - loss: 0.0015 - mean_absolute_error: 0.0290\n",
      "Epoch 18/200\n",
      "0s - loss: 0.0014 - mean_absolute_error: 0.0281\n",
      "Epoch 19/200\n",
      "0s - loss: 0.0015 - mean_absolute_error: 0.0293\n",
      "Epoch 20/200\n",
      "0s - loss: 0.0014 - mean_absolute_error: 0.0280\n",
      "Epoch 21/200\n",
      "0s - loss: 0.0014 - mean_absolute_error: 0.0275\n",
      "Epoch 22/200\n",
      "0s - loss: 0.0013 - mean_absolute_error: 0.0264\n",
      "Epoch 23/200\n",
      "0s - loss: 0.0013 - mean_absolute_error: 0.0261\n",
      "Epoch 24/200\n",
      "0s - loss: 0.0014 - mean_absolute_error: 0.0274\n",
      "Epoch 25/200\n",
      "0s - loss: 0.0011 - mean_absolute_error: 0.0259\n",
      "Epoch 26/200\n",
      "0s - loss: 0.0012 - mean_absolute_error: 0.0255\n",
      "Epoch 27/200\n",
      "0s - loss: 0.0012 - mean_absolute_error: 0.0257\n",
      "Epoch 28/200\n",
      "0s - loss: 0.0011 - mean_absolute_error: 0.0248\n",
      "Epoch 29/200\n",
      "0s - loss: 0.0011 - mean_absolute_error: 0.0249\n",
      "Epoch 30/200\n",
      "0s - loss: 0.0011 - mean_absolute_error: 0.0240\n",
      "Epoch 31/200\n",
      "0s - loss: 0.0010 - mean_absolute_error: 0.0239\n",
      "Epoch 32/200\n",
      "0s - loss: 0.0011 - mean_absolute_error: 0.0245\n",
      "Epoch 33/200\n",
      "0s - loss: 8.7837e-04 - mean_absolute_error: 0.0221\n",
      "Epoch 34/200\n",
      "0s - loss: 0.0012 - mean_absolute_error: 0.0243\n",
      "Epoch 35/200\n",
      "0s - loss: 0.0012 - mean_absolute_error: 0.0257\n",
      "Epoch 36/200\n",
      "0s - loss: 0.0011 - mean_absolute_error: 0.0248\n",
      "Epoch 37/200\n",
      "0s - loss: 9.4390e-04 - mean_absolute_error: 0.0221\n",
      "Epoch 38/200\n",
      "0s - loss: 0.0012 - mean_absolute_error: 0.0237\n",
      "Epoch 39/200\n",
      "0s - loss: 0.0011 - mean_absolute_error: 0.0244\n",
      "Epoch 40/200\n",
      "0s - loss: 0.0011 - mean_absolute_error: 0.0237\n",
      "Epoch 41/200\n",
      "0s - loss: 9.9120e-04 - mean_absolute_error: 0.0224\n",
      "Epoch 42/200\n",
      "0s - loss: 0.0010 - mean_absolute_error: 0.0219\n",
      "Epoch 43/200\n",
      "0s - loss: 9.9448e-04 - mean_absolute_error: 0.0234\n",
      "Epoch 44/200\n",
      "0s - loss: 0.0010 - mean_absolute_error: 0.0246\n",
      "Epoch 00043: early stopping\n"
     ]
    },
    {
     "data": {
      "text/plain": [
       "<keras.callbacks.History at 0x7fc3289b9160>"
      ]
     },
     "execution_count": 37,
     "metadata": {},
     "output_type": "execute_result"
    }
   ],
   "source": [
    "model.fit(X_train, \n",
    "          y_train, \n",
    "          epochs = 200,\n",
    "          batch_size = 1, \n",
    "          verbose = 2, \n",
    "          callbacks = [early_stop])"
   ]
  },
  {
   "cell_type": "code",
   "execution_count": 38,
   "metadata": {
    "collapsed": false,
    "deletable": true,
    "editable": true
   },
   "outputs": [
    {
     "data": {
      "text/plain": [
       "[<matplotlib.lines.Line2D at 0x7fc33c478278>]"
      ]
     },
     "execution_count": 38,
     "metadata": {},
     "output_type": "execute_result"
    },
    {
     "data": {
      "image/png": "[encoded data removed]",
      "text/plain": [
       "<matplotlib.figure.Figure at 0x7fc3483e2f28>"
      ]
     },
     "metadata": {},
     "output_type": "display_data"
    }
   ],
   "source": [
    "y_pred = model.predict(X_test)\n",
    "plt.plot(y_test)\n",
    "plt.plot(y_pred)"
   ]
  },
  {
   "cell_type": "markdown",
   "metadata": {
    "deletable": true,
    "editable": true
   },
   "source": [
    "### LSTM on Windows"
   ]
  },
  {
   "cell_type": "code",
   "execution_count": 39,
   "metadata": {
    "collapsed": true,
    "deletable": true,
    "editable": true
   },
   "outputs": [],
   "source": [
    "X_train_t = X_train.reshape(X_train.shape[0], 1, 12)\n",
    "X_test_t = X_test.reshape(X_test.shape[0], 1, 12)"
   ]
  },
  {
   "cell_type": "code",
   "execution_count": 40,
   "metadata": {
    "collapsed": false,
    "deletable": true,
    "editable": true
   },
   "outputs": [
    {
     "data": {
      "text/plain": [
       "(228, 1, 12)"
      ]
     },
     "execution_count": 40,
     "metadata": {},
     "output_type": "execute_result"
    }
   ],
   "source": [
    "X_train_t.shape"
   ]
  },
  {
   "cell_type": "code",
   "execution_count": 41,
   "metadata": {
    "collapsed": true,
    "deletable": true,
    "editable": true
   },
   "outputs": [],
   "source": [
    "K.clear_session()\n",
    "model = Sequential()\n",
    "\n",
    "model.add(LSTM(6, \n",
    "               input_shape = (1, 12)))\n",
    "\n",
    "model.add(Dense(1))\n",
    "\n",
    "model.compile(optimizer = 'adam', \n",
    "              loss = 'mean_squared_error', \n",
    "              metrics = ['mae'])"
   ]
  },
  {
   "cell_type": "code",
   "execution_count": 42,
   "metadata": {
    "collapsed": false,
    "deletable": true,
    "editable": true,
    "scrolled": true
   },
   "outputs": [
    {
     "name": "stdout",
     "output_type": "stream",
     "text": [
      "_________________________________________________________________\n",
      "Layer (type)                 Output Shape              Param #   \n",
      "=================================================================\n",
      "lstm_1 (LSTM)                (None, 6)                 456       \n",
      "_________________________________________________________________\n",
      "dense_1 (Dense)              (None, 1)                 7         \n",
      "=================================================================\n",
      "Total params: 463\n",
      "Trainable params: 463\n",
      "Non-trainable params: 0\n",
      "_________________________________________________________________\n"
     ]
    }
   ],
   "source": [
    "model.summary()"
   ]
  },
  {
   "cell_type": "code",
   "execution_count": 43,
   "metadata": {
    "collapsed": true,
    "deletable": true,
    "editable": true
   },
   "outputs": [],
   "source": [
    "early_stop = EarlyStopping(monitor = 'loss', \n",
    "                           patience = 10, \n",
    "                           verbose = 1)"
   ]
  },
  {
   "cell_type": "code",
   "execution_count": 44,
   "metadata": {
    "collapsed": false,
    "deletable": true,
    "editable": true
   },
   "outputs": [
    {
     "name": "stdout",
     "output_type": "stream",
     "text": [
      "Epoch 1/100\n",
      "0s - loss: 0.0311 - mean_absolute_error: 0.1329\n",
      "Epoch 2/100\n",
      "0s - loss: 0.0075 - mean_absolute_error: 0.0664\n",
      "Epoch 3/100\n",
      "0s - loss: 0.0061 - mean_absolute_error: 0.0582\n",
      "Epoch 4/100\n",
      "0s - loss: 0.0054 - mean_absolute_error: 0.0556\n",
      "Epoch 5/100\n",
      "0s - loss: 0.0053 - mean_absolute_error: 0.0553\n",
      "Epoch 6/100\n",
      "0s - loss: 0.0045 - mean_absolute_error: 0.0505\n",
      "Epoch 7/100\n",
      "0s - loss: 0.0041 - mean_absolute_error: 0.0497\n",
      "Epoch 8/100\n",
      "0s - loss: 0.0035 - mean_absolute_error: 0.0461\n",
      "Epoch 9/100\n",
      "0s - loss: 0.0031 - mean_absolute_error: 0.0435\n",
      "Epoch 10/100\n",
      "0s - loss: 0.0028 - mean_absolute_error: 0.0415\n",
      "Epoch 11/100\n",
      "0s - loss: 0.0026 - mean_absolute_error: 0.0399\n",
      "Epoch 12/100\n",
      "0s - loss: 0.0023 - mean_absolute_error: 0.0380\n",
      "Epoch 13/100\n",
      "0s - loss: 0.0022 - mean_absolute_error: 0.0367\n",
      "Epoch 14/100\n",
      "0s - loss: 0.0019 - mean_absolute_error: 0.0344\n",
      "Epoch 15/100\n",
      "0s - loss: 0.0019 - mean_absolute_error: 0.0344\n",
      "Epoch 16/100\n",
      "0s - loss: 0.0019 - mean_absolute_error: 0.0340\n",
      "Epoch 17/100\n",
      "0s - loss: 0.0016 - mean_absolute_error: 0.0314\n",
      "Epoch 18/100\n",
      "0s - loss: 0.0016 - mean_absolute_error: 0.0316\n",
      "Epoch 19/100\n",
      "0s - loss: 0.0014 - mean_absolute_error: 0.0283\n",
      "Epoch 20/100\n",
      "0s - loss: 0.0014 - mean_absolute_error: 0.0285\n",
      "Epoch 21/100\n",
      "0s - loss: 0.0014 - mean_absolute_error: 0.0292\n",
      "Epoch 22/100\n",
      "0s - loss: 0.0012 - mean_absolute_error: 0.0265\n",
      "Epoch 23/100\n",
      "0s - loss: 0.0013 - mean_absolute_error: 0.0276\n",
      "Epoch 24/100\n",
      "0s - loss: 0.0012 - mean_absolute_error: 0.0259\n",
      "Epoch 25/100\n",
      "0s - loss: 0.0012 - mean_absolute_error: 0.0263\n",
      "Epoch 26/100\n",
      "0s - loss: 0.0013 - mean_absolute_error: 0.0272\n",
      "Epoch 27/100\n",
      "0s - loss: 0.0012 - mean_absolute_error: 0.0253\n",
      "Epoch 28/100\n",
      "0s - loss: 0.0012 - mean_absolute_error: 0.0261\n",
      "Epoch 29/100\n",
      "0s - loss: 0.0012 - mean_absolute_error: 0.0260\n",
      "Epoch 30/100\n",
      "0s - loss: 0.0012 - mean_absolute_error: 0.0255\n",
      "Epoch 31/100\n",
      "0s - loss: 0.0012 - mean_absolute_error: 0.0266\n",
      "Epoch 32/100\n",
      "0s - loss: 0.0011 - mean_absolute_error: 0.0240\n",
      "Epoch 33/100\n",
      "0s - loss: 0.0011 - mean_absolute_error: 0.0241\n",
      "Epoch 34/100\n",
      "0s - loss: 0.0011 - mean_absolute_error: 0.0247\n",
      "Epoch 35/100\n",
      "0s - loss: 0.0011 - mean_absolute_error: 0.0240\n",
      "Epoch 36/100\n",
      "0s - loss: 0.0012 - mean_absolute_error: 0.0255\n",
      "Epoch 37/100\n",
      "0s - loss: 0.0012 - mean_absolute_error: 0.0247\n",
      "Epoch 38/100\n",
      "0s - loss: 9.9418e-04 - mean_absolute_error: 0.0232\n",
      "Epoch 39/100\n",
      "0s - loss: 9.8508e-04 - mean_absolute_error: 0.0238\n",
      "Epoch 40/100\n",
      "0s - loss: 0.0010 - mean_absolute_error: 0.0244\n",
      "Epoch 41/100\n",
      "0s - loss: 0.0011 - mean_absolute_error: 0.0255\n",
      "Epoch 42/100\n",
      "0s - loss: 9.1485e-04 - mean_absolute_error: 0.0227\n",
      "Epoch 43/100\n",
      "0s - loss: 9.7746e-04 - mean_absolute_error: 0.0226\n",
      "Epoch 44/100\n",
      "0s - loss: 9.2999e-04 - mean_absolute_error: 0.0231\n",
      "Epoch 45/100\n",
      "0s - loss: 0.0010 - mean_absolute_error: 0.0236\n",
      "Epoch 46/100\n",
      "0s - loss: 9.3826e-04 - mean_absolute_error: 0.0236\n",
      "Epoch 47/100\n",
      "0s - loss: 0.0010 - mean_absolute_error: 0.0244\n",
      "Epoch 48/100\n",
      "0s - loss: 0.0010 - mean_absolute_error: 0.0237\n",
      "Epoch 49/100\n",
      "0s - loss: 9.5745e-04 - mean_absolute_error: 0.0230\n",
      "Epoch 50/100\n",
      "0s - loss: 0.0010 - mean_absolute_error: 0.0234\n",
      "Epoch 51/100\n",
      "0s - loss: 9.4667e-04 - mean_absolute_error: 0.0234\n",
      "Epoch 52/100\n",
      "0s - loss: 9.6175e-04 - mean_absolute_error: 0.0230\n",
      "Epoch 53/100\n",
      "0s - loss: 0.0010 - mean_absolute_error: 0.0238\n",
      "Epoch 00052: early stopping\n"
     ]
    },
    {
     "data": {
      "text/plain": [
       "<keras.callbacks.History at 0x7fc32809b048>"
      ]
     },
     "execution_count": 44,
     "metadata": {},
     "output_type": "execute_result"
    }
   ],
   "source": [
    "model.fit(X_train_t, \n",
    "          y_train, \n",
    "          epochs = 100,\n",
    "          batch_size = 1, \n",
    "          verbose = 2, \n",
    "          callbacks = [early_stop])"
   ]
  },
  {
   "cell_type": "code",
   "execution_count": 45,
   "metadata": {
    "collapsed": false,
    "deletable": true,
    "editable": true
   },
   "outputs": [
    {
     "data": {
      "text/plain": [
       "[<matplotlib.lines.Line2D at 0x7fc328028978>]"
      ]
     },
     "execution_count": 45,
     "metadata": {},
     "output_type": "execute_result"
    },
    {
     "data": {
      "image/png": "[encoded data removed]",
      "text/plain": [
       "<matplotlib.figure.Figure at 0x7fc3280284e0>"
      ]
     },
     "metadata": {},
     "output_type": "display_data"
    }
   ],
   "source": [
    "y_pred = model.predict(X_test_t)\n",
    "plt.plot(y_test)\n",
    "plt.plot(y_pred)"
   ]
  },
  {
   "cell_type": "markdown",
   "metadata": {
    "deletable": true,
    "editable": true
   },
   "source": [
    "## Exercise 1\n",
    "\n",
    "In the model above we reshaped the input shape to: `(num_samples, 1, 12)`, i.e. we treated a window of 12 months as a vector of 12 coordinates that we simultaneously passed to all the LSTM nodes. An alternative way to look at the problem is to reshape the input to `(num_samples, 12, 1)`. This means we consider each input window as a sequence of 12 values that we will pass in sequence to the LSTM. In principle this looks like a more accurate description of our situation. But does it yield better predictions? Let's check it.\n",
    "\n",
    "- Reshape `X_train` and `X_test` so that they represent a set of univariate sequences\n",
    "- retrain the same LSTM(6) model, you'll have to adapt the `input_shape`\n",
    "- check the performance of this new model, is it better at predicting the test data?"
   ]
  },
  {
   "cell_type": "code",
   "execution_count": 46,
   "metadata": {
    "collapsed": false,
    "deletable": true,
    "editable": true
   },
   "outputs": [
    {
     "data": {
      "text/plain": [
       "((228, 12), (61, 12), (228, 1), (61, 1))"
      ]
     },
     "execution_count": 46,
     "metadata": {},
     "output_type": "execute_result"
    }
   ],
   "source": [
    "X_train.shape, X_test.shape, y_train.shape, y_test.shape"
   ]
  },
  {
   "cell_type": "code",
   "execution_count": 47,
   "metadata": {
    "collapsed": false,
    "deletable": true,
    "editable": true
   },
   "outputs": [
    {
     "name": "stdout",
     "output_type": "stream",
     "text": [
      "[ 0.20091289  0.13173822  0.11139526  0.09230917  0.12617398  0.12395846\n",
      "  0.13514108  0.16362761  0.09531795  0.0704258   0.          0.01402033]\n",
      "[ 0.03002688  0.20091289  0.13173822  0.11139526  0.09230917  0.12617398\n",
      "  0.12395846  0.13514108  0.16362761  0.09531795  0.0704258   0.        ]\n",
      "[ 0.03002688]\n"
     ]
    }
   ],
   "source": [
    "print(X_train[0]) \n",
    "print(X_train[1]), \n",
    "print(y_train[0])"
   ]
  },
  {
   "cell_type": "code",
   "execution_count": 48,
   "metadata": {
    "collapsed": false,
    "deletable": true,
    "editable": true
   },
   "outputs": [],
   "source": [
    "X_train = X_train.reshape(-1, 12, 1)\n",
    "X_test = X_test.reshape(-1, 12, 1)"
   ]
  },
  {
   "cell_type": "code",
   "execution_count": 49,
   "metadata": {
    "collapsed": false,
    "deletable": true,
    "editable": true
   },
   "outputs": [
    {
     "name": "stdout",
     "output_type": "stream",
     "text": [
      "[[ 0.20091289]\n",
      " [ 0.13173822]\n",
      " [ 0.11139526]\n",
      " [ 0.09230917]\n",
      " [ 0.12617398]\n",
      " [ 0.12395846]\n",
      " [ 0.13514108]\n",
      " [ 0.16362761]\n",
      " [ 0.09531795]\n",
      " [ 0.0704258 ]\n",
      " [ 0.        ]\n",
      " [ 0.01402033]]\n"
     ]
    }
   ],
   "source": [
    "print(X_train[0]) "
   ]
  },
  {
   "cell_type": "code",
   "execution_count": 50,
   "metadata": {
    "collapsed": false,
    "deletable": true,
    "editable": true
   },
   "outputs": [
    {
     "data": {
      "text/plain": [
       "((228, 12, 1), (61, 12, 1), (228, 1), (61, 1))"
      ]
     },
     "execution_count": 50,
     "metadata": {},
     "output_type": "execute_result"
    }
   ],
   "source": [
    "X_train.shape, X_test.shape, y_train.shape, y_test.shape"
   ]
  },
  {
   "cell_type": "code",
   "execution_count": 51,
   "metadata": {
    "collapsed": false,
    "deletable": true,
    "editable": true
   },
   "outputs": [],
   "source": [
    "from keras.models import Model\n",
    "from keras.layers import Input, LSTM\n",
    "import keras.backend as K\n",
    "\n",
    "K.clear_session()\n",
    "\n",
    "inp = Input(shape = (12, 1))\n",
    "\n",
    "net = LSTM(units = 6)(inp)\n",
    "\n",
    "prediction = Dense(units = 1)(net)\n",
    "\n",
    "model = Model(inputs = inp, outputs = prediction)\n",
    "\n",
    "model.compile(optimizer = 'adam', \n",
    "              loss = 'mean_squared_error', \n",
    "              metrics = ['mae'])"
   ]
  },
  {
   "cell_type": "code",
   "execution_count": 52,
   "metadata": {
    "collapsed": false,
    "deletable": true,
    "editable": true
   },
   "outputs": [
    {
     "name": "stdout",
     "output_type": "stream",
     "text": [
      "_________________________________________________________________\n",
      "Layer (type)                 Output Shape              Param #   \n",
      "=================================================================\n",
      "input_1 (InputLayer)         (None, 12, 1)             0         \n",
      "_________________________________________________________________\n",
      "lstm_1 (LSTM)                (None, 6)                 192       \n",
      "_________________________________________________________________\n",
      "dense_1 (Dense)              (None, 1)                 7         \n",
      "=================================================================\n",
      "Total params: 199\n",
      "Trainable params: 199\n",
      "Non-trainable params: 0\n",
      "_________________________________________________________________\n"
     ]
    }
   ],
   "source": [
    "model.summary()"
   ]
  },
  {
   "cell_type": "code",
   "execution_count": 53,
   "metadata": {
    "collapsed": true,
    "deletable": true,
    "editable": true
   },
   "outputs": [],
   "source": [
    "early_stop = EarlyStopping(monitor = 'loss', \n",
    "                           patience = 10, \n",
    "                           verbose = 1)"
   ]
  },
  {
   "cell_type": "code",
   "execution_count": 54,
   "metadata": {
    "collapsed": false,
    "deletable": true,
    "editable": true
   },
   "outputs": [
    {
     "name": "stdout",
     "output_type": "stream",
     "text": [
      "Epoch 1/500\n",
      "0s - loss: 0.0516 - mean_absolute_error: 0.1899\n",
      "Epoch 2/500\n",
      "0s - loss: 0.0272 - mean_absolute_error: 0.1293\n",
      "Epoch 3/500\n",
      "0s - loss: 0.0133 - mean_absolute_error: 0.0888\n",
      "Epoch 4/500\n",
      "0s - loss: 0.0094 - mean_absolute_error: 0.0789\n",
      "Epoch 5/500\n",
      "0s - loss: 0.0091 - mean_absolute_error: 0.0779\n",
      "Epoch 6/500\n",
      "0s - loss: 0.0083 - mean_absolute_error: 0.0738\n",
      "Epoch 7/500\n",
      "0s - loss: 0.0077 - mean_absolute_error: 0.0697\n",
      "Epoch 8/500\n",
      "0s - loss: 0.0073 - mean_absolute_error: 0.0666\n",
      "Epoch 9/500\n",
      "0s - loss: 0.0069 - mean_absolute_error: 0.0640\n",
      "Epoch 10/500\n",
      "0s - loss: 0.0067 - mean_absolute_error: 0.0616\n",
      "Epoch 11/500\n",
      "0s - loss: 0.0064 - mean_absolute_error: 0.0597\n",
      "Epoch 12/500\n",
      "0s - loss: 0.0063 - mean_absolute_error: 0.0582\n",
      "Epoch 13/500\n",
      "0s - loss: 0.0062 - mean_absolute_error: 0.0576\n",
      "Epoch 14/500\n",
      "0s - loss: 0.0061 - mean_absolute_error: 0.0561\n",
      "Epoch 15/500\n",
      "0s - loss: 0.0061 - mean_absolute_error: 0.0557\n",
      "Epoch 16/500\n",
      "0s - loss: 0.0061 - mean_absolute_error: 0.0560\n",
      "Epoch 17/500\n",
      "0s - loss: 0.0060 - mean_absolute_error: 0.0550\n",
      "Epoch 18/500\n",
      "0s - loss: 0.0061 - mean_absolute_error: 0.0559\n",
      "Epoch 19/500\n",
      "0s - loss: 0.0059 - mean_absolute_error: 0.0552\n",
      "Epoch 20/500\n",
      "0s - loss: 0.0059 - mean_absolute_error: 0.0550\n",
      "Epoch 21/500\n",
      "0s - loss: 0.0060 - mean_absolute_error: 0.0548\n",
      "Epoch 22/500\n",
      "0s - loss: 0.0059 - mean_absolute_error: 0.0545\n",
      "Epoch 23/500\n",
      "0s - loss: 0.0059 - mean_absolute_error: 0.0554\n",
      "Epoch 24/500\n",
      "0s - loss: 0.0059 - mean_absolute_error: 0.0561\n",
      "Epoch 25/500\n",
      "0s - loss: 0.0059 - mean_absolute_error: 0.0544\n",
      "Epoch 26/500\n",
      "0s - loss: 0.0059 - mean_absolute_error: 0.0547\n",
      "Epoch 27/500\n",
      "0s - loss: 0.0058 - mean_absolute_error: 0.0550\n",
      "Epoch 28/500\n",
      "0s - loss: 0.0058 - mean_absolute_error: 0.0545\n",
      "Epoch 29/500\n",
      "0s - loss: 0.0058 - mean_absolute_error: 0.0542\n",
      "Epoch 30/500\n",
      "0s - loss: 0.0057 - mean_absolute_error: 0.0540\n",
      "Epoch 31/500\n",
      "0s - loss: 0.0057 - mean_absolute_error: 0.0539\n",
      "Epoch 32/500\n",
      "0s - loss: 0.0057 - mean_absolute_error: 0.0537\n",
      "Epoch 33/500\n",
      "0s - loss: 0.0057 - mean_absolute_error: 0.0545\n",
      "Epoch 34/500\n",
      "0s - loss: 0.0057 - mean_absolute_error: 0.0536\n",
      "Epoch 35/500\n",
      "0s - loss: 0.0056 - mean_absolute_error: 0.0534\n",
      "Epoch 36/500\n",
      "0s - loss: 0.0056 - mean_absolute_error: 0.0537\n",
      "Epoch 37/500\n",
      "0s - loss: 0.0056 - mean_absolute_error: 0.0534\n",
      "Epoch 38/500\n",
      "0s - loss: 0.0055 - mean_absolute_error: 0.0532\n",
      "Epoch 39/500\n",
      "0s - loss: 0.0056 - mean_absolute_error: 0.0534\n",
      "Epoch 40/500\n",
      "0s - loss: 0.0055 - mean_absolute_error: 0.0531\n",
      "Epoch 41/500\n",
      "0s - loss: 0.0055 - mean_absolute_error: 0.0528\n",
      "Epoch 42/500\n",
      "0s - loss: 0.0056 - mean_absolute_error: 0.0527\n",
      "Epoch 43/500\n",
      "0s - loss: 0.0055 - mean_absolute_error: 0.0532\n",
      "Epoch 44/500\n",
      "0s - loss: 0.0054 - mean_absolute_error: 0.0526\n",
      "Epoch 45/500\n",
      "0s - loss: 0.0055 - mean_absolute_error: 0.0524\n",
      "Epoch 46/500\n",
      "0s - loss: 0.0054 - mean_absolute_error: 0.0525\n",
      "Epoch 47/500\n",
      "0s - loss: 0.0054 - mean_absolute_error: 0.0528\n",
      "Epoch 48/500\n",
      "0s - loss: 0.0053 - mean_absolute_error: 0.0515\n",
      "Epoch 49/500\n",
      "0s - loss: 0.0053 - mean_absolute_error: 0.0520\n",
      "Epoch 50/500\n",
      "0s - loss: 0.0053 - mean_absolute_error: 0.0522\n",
      "Epoch 51/500\n",
      "0s - loss: 0.0053 - mean_absolute_error: 0.0515\n",
      "Epoch 52/500\n",
      "0s - loss: 0.0052 - mean_absolute_error: 0.0520\n",
      "Epoch 53/500\n",
      "0s - loss: 0.0052 - mean_absolute_error: 0.0516\n",
      "Epoch 54/500\n",
      "0s - loss: 0.0052 - mean_absolute_error: 0.0514\n",
      "Epoch 55/500\n",
      "0s - loss: 0.0052 - mean_absolute_error: 0.0514\n",
      "Epoch 56/500\n",
      "0s - loss: 0.0052 - mean_absolute_error: 0.0506\n",
      "Epoch 57/500\n",
      "0s - loss: 0.0051 - mean_absolute_error: 0.0506\n",
      "Epoch 58/500\n",
      "0s - loss: 0.0053 - mean_absolute_error: 0.0535\n",
      "Epoch 59/500\n",
      "0s - loss: 0.0052 - mean_absolute_error: 0.0510\n",
      "Epoch 60/500\n",
      "0s - loss: 0.0050 - mean_absolute_error: 0.0499\n",
      "Epoch 61/500\n",
      "0s - loss: 0.0051 - mean_absolute_error: 0.0517\n",
      "Epoch 62/500\n",
      "0s - loss: 0.0050 - mean_absolute_error: 0.0499\n",
      "Epoch 63/500\n",
      "0s - loss: 0.0050 - mean_absolute_error: 0.0502\n",
      "Epoch 64/500\n",
      "0s - loss: 0.0050 - mean_absolute_error: 0.0505\n",
      "Epoch 65/500\n",
      "0s - loss: 0.0049 - mean_absolute_error: 0.0497\n",
      "Epoch 66/500\n",
      "0s - loss: 0.0048 - mean_absolute_error: 0.0492\n",
      "Epoch 67/500\n",
      "0s - loss: 0.0049 - mean_absolute_error: 0.0506\n",
      "Epoch 68/500\n",
      "0s - loss: 0.0049 - mean_absolute_error: 0.0495\n",
      "Epoch 69/500\n",
      "0s - loss: 0.0048 - mean_absolute_error: 0.0491\n",
      "Epoch 70/500\n",
      "0s - loss: 0.0049 - mean_absolute_error: 0.0504\n",
      "Epoch 71/500\n",
      "0s - loss: 0.0049 - mean_absolute_error: 0.0487\n",
      "Epoch 72/500\n",
      "0s - loss: 0.0047 - mean_absolute_error: 0.0489\n",
      "Epoch 73/500\n",
      "0s - loss: 0.0047 - mean_absolute_error: 0.0490\n",
      "Epoch 74/500\n",
      "0s - loss: 0.0046 - mean_absolute_error: 0.0485\n",
      "Epoch 75/500\n",
      "0s - loss: 0.0046 - mean_absolute_error: 0.0484\n",
      "Epoch 76/500\n",
      "0s - loss: 0.0046 - mean_absolute_error: 0.0483\n",
      "Epoch 77/500\n",
      "0s - loss: 0.0046 - mean_absolute_error: 0.0479\n",
      "Epoch 78/500\n",
      "0s - loss: 0.0046 - mean_absolute_error: 0.0481\n",
      "Epoch 79/500\n",
      "0s - loss: 0.0045 - mean_absolute_error: 0.0476\n",
      "Epoch 80/500\n",
      "0s - loss: 0.0045 - mean_absolute_error: 0.0482\n",
      "Epoch 81/500\n",
      "0s - loss: 0.0045 - mean_absolute_error: 0.0471\n",
      "Epoch 82/500\n",
      "0s - loss: 0.0044 - mean_absolute_error: 0.0470\n",
      "Epoch 83/500\n",
      "0s - loss: 0.0044 - mean_absolute_error: 0.0469\n",
      "Epoch 84/500\n",
      "0s - loss: 0.0044 - mean_absolute_error: 0.0472\n",
      "Epoch 85/500\n",
      "0s - loss: 0.0044 - mean_absolute_error: 0.0470\n",
      "Epoch 86/500\n",
      "0s - loss: 0.0043 - mean_absolute_error: 0.0463\n",
      "Epoch 87/500\n",
      "0s - loss: 0.0043 - mean_absolute_error: 0.0468\n",
      "Epoch 88/500\n",
      "0s - loss: 0.0044 - mean_absolute_error: 0.0466\n",
      "Epoch 89/500\n",
      "0s - loss: 0.0043 - mean_absolute_error: 0.0464\n",
      "Epoch 90/500\n",
      "0s - loss: 0.0042 - mean_absolute_error: 0.0461\n",
      "Epoch 91/500\n",
      "0s - loss: 0.0042 - mean_absolute_error: 0.0461\n",
      "Epoch 92/500\n",
      "0s - loss: 0.0042 - mean_absolute_error: 0.0457\n",
      "Epoch 93/500\n",
      "0s - loss: 0.0041 - mean_absolute_error: 0.0454\n",
      "Epoch 94/500\n",
      "0s - loss: 0.0041 - mean_absolute_error: 0.0450\n",
      "Epoch 95/500\n",
      "0s - loss: 0.0041 - mean_absolute_error: 0.0458\n",
      "Epoch 96/500\n",
      "0s - loss: 0.0041 - mean_absolute_error: 0.0451\n",
      "Epoch 97/500\n",
      "0s - loss: 0.0040 - mean_absolute_error: 0.0442\n",
      "Epoch 98/500\n",
      "0s - loss: 0.0040 - mean_absolute_error: 0.0450\n",
      "Epoch 99/500\n",
      "0s - loss: 0.0039 - mean_absolute_error: 0.0442\n",
      "Epoch 100/500\n",
      "0s - loss: 0.0039 - mean_absolute_error: 0.0440\n",
      "Epoch 101/500\n",
      "0s - loss: 0.0040 - mean_absolute_error: 0.0441\n",
      "Epoch 102/500\n",
      "0s - loss: 0.0038 - mean_absolute_error: 0.0435\n",
      "Epoch 103/500\n",
      "0s - loss: 0.0038 - mean_absolute_error: 0.0436\n",
      "Epoch 104/500\n",
      "0s - loss: 0.0038 - mean_absolute_error: 0.0431\n",
      "Epoch 105/500\n",
      "0s - loss: 0.0038 - mean_absolute_error: 0.0435\n",
      "Epoch 106/500\n",
      "0s - loss: 0.0037 - mean_absolute_error: 0.0428\n",
      "Epoch 107/500\n",
      "0s - loss: 0.0037 - mean_absolute_error: 0.0426\n",
      "Epoch 108/500\n",
      "0s - loss: 0.0036 - mean_absolute_error: 0.0425\n",
      "Epoch 109/500\n",
      "0s - loss: 0.0036 - mean_absolute_error: 0.0424\n",
      "Epoch 110/500\n",
      "0s - loss: 0.0036 - mean_absolute_error: 0.0425\n",
      "Epoch 111/500\n",
      "0s - loss: 0.0036 - mean_absolute_error: 0.0418\n",
      "Epoch 112/500\n",
      "0s - loss: 0.0035 - mean_absolute_error: 0.0414\n",
      "Epoch 113/500\n",
      "0s - loss: 0.0035 - mean_absolute_error: 0.0418\n",
      "Epoch 114/500\n",
      "0s - loss: 0.0035 - mean_absolute_error: 0.0412\n",
      "Epoch 115/500\n",
      "0s - loss: 0.0034 - mean_absolute_error: 0.0410\n",
      "Epoch 116/500\n",
      "0s - loss: 0.0034 - mean_absolute_error: 0.0406\n",
      "Epoch 117/500\n",
      "0s - loss: 0.0034 - mean_absolute_error: 0.0408\n",
      "Epoch 118/500\n",
      "0s - loss: 0.0033 - mean_absolute_error: 0.0402\n",
      "Epoch 119/500\n",
      "0s - loss: 0.0033 - mean_absolute_error: 0.0397\n",
      "Epoch 120/500\n",
      "0s - loss: 0.0033 - mean_absolute_error: 0.0399\n",
      "Epoch 121/500\n",
      "0s - loss: 0.0032 - mean_absolute_error: 0.0395\n",
      "Epoch 122/500\n",
      "0s - loss: 0.0032 - mean_absolute_error: 0.0396\n",
      "Epoch 123/500\n",
      "0s - loss: 0.0032 - mean_absolute_error: 0.0393\n",
      "Epoch 124/500\n",
      "0s - loss: 0.0031 - mean_absolute_error: 0.0389\n",
      "Epoch 125/500\n",
      "0s - loss: 0.0031 - mean_absolute_error: 0.0387\n",
      "Epoch 126/500\n",
      "0s - loss: 0.0031 - mean_absolute_error: 0.0384\n",
      "Epoch 127/500\n",
      "0s - loss: 0.0031 - mean_absolute_error: 0.0386\n",
      "Epoch 128/500\n",
      "0s - loss: 0.0031 - mean_absolute_error: 0.0385\n",
      "Epoch 129/500\n",
      "0s - loss: 0.0030 - mean_absolute_error: 0.0376\n",
      "Epoch 130/500\n",
      "0s - loss: 0.0029 - mean_absolute_error: 0.0378\n",
      "Epoch 131/500\n",
      "0s - loss: 0.0030 - mean_absolute_error: 0.0380\n",
      "Epoch 132/500\n",
      "0s - loss: 0.0029 - mean_absolute_error: 0.0371\n",
      "Epoch 133/500\n",
      "0s - loss: 0.0028 - mean_absolute_error: 0.0367\n",
      "Epoch 134/500\n",
      "0s - loss: 0.0028 - mean_absolute_error: 0.0363\n",
      "Epoch 135/500\n",
      "0s - loss: 0.0029 - mean_absolute_error: 0.0371\n",
      "Epoch 136/500\n",
      "0s - loss: 0.0028 - mean_absolute_error: 0.0367\n",
      "Epoch 137/500\n",
      "0s - loss: 0.0027 - mean_absolute_error: 0.0359\n",
      "Epoch 138/500\n",
      "0s - loss: 0.0027 - mean_absolute_error: 0.0357\n",
      "Epoch 139/500\n",
      "0s - loss: 0.0027 - mean_absolute_error: 0.0360\n",
      "Epoch 140/500\n",
      "0s - loss: 0.0026 - mean_absolute_error: 0.0349\n",
      "Epoch 141/500\n",
      "0s - loss: 0.0026 - mean_absolute_error: 0.0348\n",
      "Epoch 142/500\n",
      "0s - loss: 0.0026 - mean_absolute_error: 0.0349\n",
      "Epoch 143/500\n",
      "0s - loss: 0.0025 - mean_absolute_error: 0.0341\n",
      "Epoch 144/500\n",
      "0s - loss: 0.0025 - mean_absolute_error: 0.0340\n",
      "Epoch 145/500\n",
      "0s - loss: 0.0024 - mean_absolute_error: 0.0338\n",
      "Epoch 146/500\n",
      "0s - loss: 0.0024 - mean_absolute_error: 0.0338\n",
      "Epoch 147/500\n",
      "0s - loss: 0.0024 - mean_absolute_error: 0.0336\n",
      "Epoch 148/500\n",
      "0s - loss: 0.0023 - mean_absolute_error: 0.0333\n",
      "Epoch 149/500\n",
      "0s - loss: 0.0023 - mean_absolute_error: 0.0331\n",
      "Epoch 150/500\n",
      "0s - loss: 0.0023 - mean_absolute_error: 0.0332\n",
      "Epoch 151/500\n",
      "0s - loss: 0.0022 - mean_absolute_error: 0.0330\n",
      "Epoch 152/500\n",
      "0s - loss: 0.0022 - mean_absolute_error: 0.0323\n",
      "Epoch 153/500\n",
      "0s - loss: 0.0022 - mean_absolute_error: 0.0321\n",
      "Epoch 154/500\n",
      "0s - loss: 0.0021 - mean_absolute_error: 0.0320\n",
      "Epoch 155/500\n",
      "0s - loss: 0.0021 - mean_absolute_error: 0.0316\n",
      "Epoch 156/500\n",
      "0s - loss: 0.0021 - mean_absolute_error: 0.0314\n",
      "Epoch 157/500\n",
      "0s - loss: 0.0020 - mean_absolute_error: 0.0313\n",
      "Epoch 158/500\n",
      "0s - loss: 0.0020 - mean_absolute_error: 0.0310\n",
      "Epoch 159/500\n",
      "0s - loss: 0.0020 - mean_absolute_error: 0.0310\n",
      "Epoch 160/500\n",
      "0s - loss: 0.0019 - mean_absolute_error: 0.0305\n",
      "Epoch 161/500\n",
      "0s - loss: 0.0019 - mean_absolute_error: 0.0303\n",
      "Epoch 162/500\n",
      "0s - loss: 0.0018 - mean_absolute_error: 0.0298\n",
      "Epoch 163/500\n",
      "0s - loss: 0.0018 - mean_absolute_error: 0.0299\n",
      "Epoch 164/500\n",
      "0s - loss: 0.0018 - mean_absolute_error: 0.0295\n",
      "Epoch 165/500\n",
      "0s - loss: 0.0018 - mean_absolute_error: 0.0302\n",
      "Epoch 166/500\n",
      "0s - loss: 0.0018 - mean_absolute_error: 0.0296\n",
      "Epoch 167/500\n",
      "0s - loss: 0.0017 - mean_absolute_error: 0.0289\n",
      "Epoch 168/500\n",
      "0s - loss: 0.0017 - mean_absolute_error: 0.0287\n",
      "Epoch 169/500\n",
      "0s - loss: 0.0017 - mean_absolute_error: 0.0293\n",
      "Epoch 170/500\n",
      "0s - loss: 0.0017 - mean_absolute_error: 0.0288\n",
      "Epoch 171/500\n",
      "0s - loss: 0.0016 - mean_absolute_error: 0.0278\n",
      "Epoch 172/500\n",
      "0s - loss: 0.0016 - mean_absolute_error: 0.0286\n",
      "Epoch 173/500\n",
      "0s - loss: 0.0016 - mean_absolute_error: 0.0285\n",
      "Epoch 174/500\n",
      "0s - loss: 0.0016 - mean_absolute_error: 0.0290\n",
      "Epoch 175/500\n",
      "0s - loss: 0.0016 - mean_absolute_error: 0.0283\n",
      "Epoch 176/500\n",
      "0s - loss: 0.0015 - mean_absolute_error: 0.0275\n",
      "Epoch 177/500\n",
      "0s - loss: 0.0014 - mean_absolute_error: 0.0267\n",
      "Epoch 178/500\n",
      "0s - loss: 0.0014 - mean_absolute_error: 0.0267\n",
      "Epoch 179/500\n",
      "0s - loss: 0.0014 - mean_absolute_error: 0.0270\n",
      "Epoch 180/500\n",
      "0s - loss: 0.0014 - mean_absolute_error: 0.0263\n",
      "Epoch 181/500\n",
      "0s - loss: 0.0013 - mean_absolute_error: 0.0262\n",
      "Epoch 182/500\n",
      "0s - loss: 0.0013 - mean_absolute_error: 0.0265\n",
      "Epoch 183/500\n",
      "0s - loss: 0.0013 - mean_absolute_error: 0.0259\n",
      "Epoch 184/500\n",
      "0s - loss: 0.0013 - mean_absolute_error: 0.0258\n",
      "Epoch 185/500\n",
      "0s - loss: 0.0013 - mean_absolute_error: 0.0259\n",
      "Epoch 186/500\n",
      "0s - loss: 0.0013 - mean_absolute_error: 0.0256\n",
      "Epoch 187/500\n",
      "0s - loss: 0.0013 - mean_absolute_error: 0.0255\n",
      "Epoch 188/500\n",
      "0s - loss: 0.0013 - mean_absolute_error: 0.0265\n",
      "Epoch 189/500\n",
      "0s - loss: 0.0013 - mean_absolute_error: 0.0252\n",
      "Epoch 190/500\n",
      "0s - loss: 0.0012 - mean_absolute_error: 0.0249\n",
      "Epoch 191/500\n",
      "0s - loss: 0.0012 - mean_absolute_error: 0.0252\n",
      "Epoch 192/500\n",
      "0s - loss: 0.0012 - mean_absolute_error: 0.0252\n",
      "Epoch 193/500\n",
      "0s - loss: 0.0012 - mean_absolute_error: 0.0261\n",
      "Epoch 194/500\n",
      "0s - loss: 0.0011 - mean_absolute_error: 0.0243\n",
      "Epoch 195/500\n",
      "0s - loss: 0.0011 - mean_absolute_error: 0.0243\n",
      "Epoch 196/500\n",
      "0s - loss: 0.0011 - mean_absolute_error: 0.0246\n",
      "Epoch 197/500\n",
      "0s - loss: 0.0011 - mean_absolute_error: 0.0241\n",
      "Epoch 198/500\n",
      "0s - loss: 0.0011 - mean_absolute_error: 0.0240\n",
      "Epoch 199/500\n",
      "0s - loss: 0.0011 - mean_absolute_error: 0.0238\n",
      "Epoch 200/500\n",
      "0s - loss: 0.0011 - mean_absolute_error: 0.0234\n",
      "Epoch 201/500\n",
      "0s - loss: 0.0011 - mean_absolute_error: 0.0251\n",
      "Epoch 202/500\n",
      "0s - loss: 0.0012 - mean_absolute_error: 0.0240\n",
      "Epoch 203/500\n",
      "0s - loss: 0.0012 - mean_absolute_error: 0.0255\n",
      "Epoch 204/500\n",
      "0s - loss: 0.0011 - mean_absolute_error: 0.0232\n",
      "Epoch 205/500\n",
      "0s - loss: 0.0010 - mean_absolute_error: 0.0235\n",
      "Epoch 206/500\n",
      "0s - loss: 0.0010 - mean_absolute_error: 0.0230\n",
      "Epoch 207/500\n",
      "0s - loss: 0.0010 - mean_absolute_error: 0.0229\n",
      "Epoch 208/500\n",
      "0s - loss: 0.0010 - mean_absolute_error: 0.0230\n",
      "Epoch 209/500\n",
      "0s - loss: 0.0010 - mean_absolute_error: 0.0227\n",
      "Epoch 210/500\n",
      "0s - loss: 0.0010 - mean_absolute_error: 0.0236\n",
      "Epoch 211/500\n",
      "0s - loss: 0.0010 - mean_absolute_error: 0.0226\n",
      "Epoch 212/500\n",
      "0s - loss: 0.0010 - mean_absolute_error: 0.0224\n",
      "Epoch 213/500\n",
      "0s - loss: 0.0010 - mean_absolute_error: 0.0226\n",
      "Epoch 214/500\n",
      "0s - loss: 0.0010 - mean_absolute_error: 0.0229\n",
      "Epoch 215/500\n",
      "0s - loss: 0.0010 - mean_absolute_error: 0.0230\n",
      "Epoch 216/500\n",
      "0s - loss: 0.0010 - mean_absolute_error: 0.0228\n",
      "Epoch 217/500\n",
      "0s - loss: 0.0010 - mean_absolute_error: 0.0234\n",
      "Epoch 218/500\n",
      "0s - loss: 9.8737e-04 - mean_absolute_error: 0.0226\n",
      "Epoch 219/500\n",
      "0s - loss: 9.8631e-04 - mean_absolute_error: 0.0228\n",
      "Epoch 220/500\n",
      "0s - loss: 0.0010 - mean_absolute_error: 0.0224\n",
      "Epoch 221/500\n",
      "0s - loss: 0.0010 - mean_absolute_error: 0.0229\n",
      "Epoch 222/500\n",
      "0s - loss: 0.0010 - mean_absolute_error: 0.0227\n",
      "Epoch 223/500\n",
      "0s - loss: 0.0010 - mean_absolute_error: 0.0228\n",
      "Epoch 224/500\n",
      "0s - loss: 9.8470e-04 - mean_absolute_error: 0.0228\n",
      "Epoch 225/500\n",
      "0s - loss: 9.9981e-04 - mean_absolute_error: 0.0226\n",
      "Epoch 226/500\n",
      "0s - loss: 9.8067e-04 - mean_absolute_error: 0.0221\n",
      "Epoch 227/500\n",
      "0s - loss: 9.7203e-04 - mean_absolute_error: 0.0226\n",
      "Epoch 228/500\n",
      "0s - loss: 0.0010 - mean_absolute_error: 0.0220\n",
      "Epoch 229/500\n",
      "0s - loss: 0.0010 - mean_absolute_error: 0.0232\n",
      "Epoch 230/500\n",
      "0s - loss: 0.0010 - mean_absolute_error: 0.0227\n",
      "Epoch 231/500\n",
      "0s - loss: 0.0010 - mean_absolute_error: 0.0237\n",
      "Epoch 232/500\n",
      "0s - loss: 0.0010 - mean_absolute_error: 0.0229\n",
      "Epoch 233/500\n",
      "0s - loss: 9.9115e-04 - mean_absolute_error: 0.0227\n",
      "Epoch 234/500\n",
      "0s - loss: 9.7420e-04 - mean_absolute_error: 0.0220\n",
      "Epoch 235/500\n",
      "0s - loss: 0.0010 - mean_absolute_error: 0.0225\n",
      "Epoch 236/500\n",
      "0s - loss: 9.4861e-04 - mean_absolute_error: 0.0220\n",
      "Epoch 237/500\n",
      "0s - loss: 9.6354e-04 - mean_absolute_error: 0.0220\n",
      "Epoch 238/500\n",
      "0s - loss: 9.6226e-04 - mean_absolute_error: 0.0225\n",
      "Epoch 239/500\n",
      "0s - loss: 9.6054e-04 - mean_absolute_error: 0.0220\n",
      "Epoch 240/500\n",
      "0s - loss: 9.9983e-04 - mean_absolute_error: 0.0235\n",
      "Epoch 241/500\n",
      "0s - loss: 9.9843e-04 - mean_absolute_error: 0.0225\n",
      "Epoch 242/500\n",
      "0s - loss: 9.4758e-04 - mean_absolute_error: 0.0221\n",
      "Epoch 243/500\n",
      "0s - loss: 9.3898e-04 - mean_absolute_error: 0.0220\n",
      "Epoch 244/500\n",
      "0s - loss: 9.5198e-04 - mean_absolute_error: 0.0219\n",
      "Epoch 245/500\n",
      "0s - loss: 9.3955e-04 - mean_absolute_error: 0.0222\n",
      "Epoch 246/500\n",
      "0s - loss: 9.8272e-04 - mean_absolute_error: 0.0220\n",
      "Epoch 247/500\n",
      "0s - loss: 0.0010 - mean_absolute_error: 0.0237\n",
      "Epoch 248/500\n",
      "0s - loss: 9.8424e-04 - mean_absolute_error: 0.0220\n",
      "Epoch 249/500\n",
      "0s - loss: 9.5396e-04 - mean_absolute_error: 0.0224\n",
      "Epoch 250/500\n",
      "0s - loss: 9.6497e-04 - mean_absolute_error: 0.0217\n",
      "Epoch 251/500\n",
      "0s - loss: 9.3653e-04 - mean_absolute_error: 0.0220\n",
      "Epoch 252/500\n",
      "0s - loss: 9.5327e-04 - mean_absolute_error: 0.0218\n",
      "Epoch 253/500\n",
      "0s - loss: 9.5205e-04 - mean_absolute_error: 0.0225\n",
      "Epoch 254/500\n",
      "0s - loss: 9.6633e-04 - mean_absolute_error: 0.0220\n",
      "Epoch 255/500\n",
      "0s - loss: 9.7571e-04 - mean_absolute_error: 0.0228\n",
      "Epoch 256/500\n",
      "0s - loss: 9.3139e-04 - mean_absolute_error: 0.0217\n",
      "Epoch 257/500\n",
      "0s - loss: 9.5887e-04 - mean_absolute_error: 0.0225\n",
      "Epoch 258/500\n",
      "0s - loss: 9.3117e-04 - mean_absolute_error: 0.0217\n",
      "Epoch 259/500\n",
      "0s - loss: 9.4372e-04 - mean_absolute_error: 0.0222\n",
      "Epoch 260/500\n",
      "0s - loss: 9.1837e-04 - mean_absolute_error: 0.0218\n",
      "Epoch 261/500\n",
      "0s - loss: 9.2537e-04 - mean_absolute_error: 0.0217\n",
      "Epoch 262/500\n",
      "0s - loss: 9.3973e-04 - mean_absolute_error: 0.0219\n",
      "Epoch 263/500\n",
      "0s - loss: 9.1984e-04 - mean_absolute_error: 0.0216\n",
      "Epoch 264/500\n",
      "0s - loss: 9.1883e-04 - mean_absolute_error: 0.0215\n",
      "Epoch 265/500\n",
      "0s - loss: 9.2773e-04 - mean_absolute_error: 0.0218\n",
      "Epoch 266/500\n",
      "0s - loss: 9.1896e-04 - mean_absolute_error: 0.0217\n",
      "Epoch 267/500\n",
      "0s - loss: 9.1729e-04 - mean_absolute_error: 0.0216\n",
      "Epoch 268/500\n",
      "0s - loss: 9.1776e-04 - mean_absolute_error: 0.0220\n",
      "Epoch 269/500\n",
      "0s - loss: 9.1471e-04 - mean_absolute_error: 0.0216\n",
      "Epoch 270/500\n",
      "0s - loss: 9.2553e-04 - mean_absolute_error: 0.0215\n",
      "Epoch 271/500\n",
      "0s - loss: 9.2183e-04 - mean_absolute_error: 0.0217\n",
      "Epoch 272/500\n",
      "0s - loss: 9.1519e-04 - mean_absolute_error: 0.0217\n",
      "Epoch 273/500\n",
      "0s - loss: 9.2000e-04 - mean_absolute_error: 0.0221\n",
      "Epoch 274/500\n",
      "0s - loss: 9.1139e-04 - mean_absolute_error: 0.0216\n",
      "Epoch 275/500\n",
      "0s - loss: 9.2973e-04 - mean_absolute_error: 0.0220\n",
      "Epoch 276/500\n",
      "0s - loss: 9.1196e-04 - mean_absolute_error: 0.0216\n",
      "Epoch 277/500\n",
      "0s - loss: 9.1467e-04 - mean_absolute_error: 0.0213\n",
      "Epoch 278/500\n",
      "0s - loss: 9.2041e-04 - mean_absolute_error: 0.0220\n",
      "Epoch 279/500\n",
      "0s - loss: 9.2249e-04 - mean_absolute_error: 0.0218\n",
      "Epoch 280/500\n",
      "0s - loss: 9.0582e-04 - mean_absolute_error: 0.0217\n",
      "Epoch 281/500\n",
      "0s - loss: 9.0607e-04 - mean_absolute_error: 0.0214\n",
      "Epoch 282/500\n",
      "0s - loss: 9.1526e-04 - mean_absolute_error: 0.0217\n",
      "Epoch 283/500\n",
      "0s - loss: 9.2272e-04 - mean_absolute_error: 0.0217\n",
      "Epoch 284/500\n",
      "0s - loss: 9.3647e-04 - mean_absolute_error: 0.0221\n",
      "Epoch 285/500\n",
      "0s - loss: 9.2545e-04 - mean_absolute_error: 0.0222\n",
      "Epoch 286/500\n",
      "0s - loss: 9.4039e-04 - mean_absolute_error: 0.0216\n",
      "Epoch 287/500\n",
      "0s - loss: 9.0460e-04 - mean_absolute_error: 0.0220\n",
      "Epoch 288/500\n",
      "0s - loss: 9.2670e-04 - mean_absolute_error: 0.0214\n",
      "Epoch 289/500\n",
      "0s - loss: 9.5000e-04 - mean_absolute_error: 0.0220\n",
      "Epoch 290/500\n",
      "0s - loss: 9.1729e-04 - mean_absolute_error: 0.0218\n",
      "Epoch 291/500\n",
      "0s - loss: 9.6373e-04 - mean_absolute_error: 0.0219\n",
      "Epoch 292/500\n",
      "0s - loss: 9.7583e-04 - mean_absolute_error: 0.0235\n",
      "Epoch 293/500\n",
      "0s - loss: 9.2030e-04 - mean_absolute_error: 0.0216\n",
      "Epoch 294/500\n",
      "0s - loss: 8.9178e-04 - mean_absolute_error: 0.0215\n",
      "Epoch 295/500\n",
      "0s - loss: 8.9917e-04 - mean_absolute_error: 0.0213\n",
      "Epoch 296/500\n",
      "0s - loss: 9.0806e-04 - mean_absolute_error: 0.0217\n",
      "Epoch 297/500\n",
      "0s - loss: 9.1725e-04 - mean_absolute_error: 0.0214\n",
      "Epoch 298/500\n",
      "0s - loss: 9.1876e-04 - mean_absolute_error: 0.0216\n",
      "Epoch 299/500\n",
      "0s - loss: 9.0530e-04 - mean_absolute_error: 0.0214\n",
      "Epoch 300/500\n",
      "0s - loss: 9.0445e-04 - mean_absolute_error: 0.0219\n",
      "Epoch 301/500\n",
      "0s - loss: 9.1139e-04 - mean_absolute_error: 0.0215\n",
      "Epoch 302/500\n",
      "0s - loss: 9.2365e-04 - mean_absolute_error: 0.0217\n",
      "Epoch 303/500\n",
      "0s - loss: 9.1059e-04 - mean_absolute_error: 0.0212\n",
      "Epoch 304/500\n",
      "0s - loss: 9.1672e-04 - mean_absolute_error: 0.0221\n",
      "Epoch 305/500\n",
      "0s - loss: 8.9757e-04 - mean_absolute_error: 0.0217\n",
      "Epoch 00304: early stopping\n"
     ]
    },
    {
     "data": {
      "text/plain": [
       "<keras.callbacks.History at 0x7fc30b7810f0>"
      ]
     },
     "execution_count": 54,
     "metadata": {},
     "output_type": "execute_result"
    }
   ],
   "source": [
    "model.fit(X_train, \n",
    "          y_train, \n",
    "          epochs = 500,\n",
    "          batch_size = 20, \n",
    "          verbose = 2, \n",
    "          callbacks = [early_stop])"
   ]
  },
  {
   "cell_type": "code",
   "execution_count": 55,
   "metadata": {
    "collapsed": false,
    "deletable": true,
    "editable": true
   },
   "outputs": [
    {
     "data": {
      "text/plain": [
       "[<matplotlib.lines.Line2D at 0x7fc30b70a5c0>]"
      ]
     },
     "execution_count": 55,
     "metadata": {},
     "output_type": "execute_result"
    },
    {
     "data": {
      "image/png": "[encoded data removed]",
      "text/plain": [
       "<matplotlib.figure.Figure at 0x7fc30b70aa58>"
      ]
     },
     "metadata": {},
     "output_type": "display_data"
    }
   ],
   "source": [
    "y_pred = model.predict(X_test)\n",
    "plt.plot(y_test)\n",
    "plt.plot(y_pred)"
   ]
  },
  {
   "cell_type": "markdown",
   "metadata": {
    "collapsed": true,
    "deletable": true,
    "editable": true
   },
   "source": [
    "## Exercise 2\n",
    "\n",
    "RNN models can be applied to images too. In general we can apply them to any data where there's a connnection between nearby units. Let's see how we can easily build a model that works with images.\n",
    "\n",
    "- Load the MNIST data, by now you should be able to do it blindfolded :)\n",
    "- reshape it so that an image looks like a long sequence of pixels\n",
    "- create a recurrent model and train it on the training data\n",
    "- how does it perform compared to a fully connected? How does it compare to Convolutional Neural Networks?\n",
    "\n",
    "(feel free to run this exercise on a cloud GPU if it's too slow on your laptop)"
   ]
  },
  {
   "cell_type": "code",
   "execution_count": 56,
   "metadata": {
    "collapsed": true,
    "deletable": true,
    "editable": true
   },
   "outputs": [],
   "source": [
    "from keras.datasets import mnist"
   ]
  },
  {
   "cell_type": "code",
   "execution_count": 57,
   "metadata": {
    "collapsed": true,
    "deletable": true,
    "editable": true
   },
   "outputs": [],
   "source": [
    "(X_train, Y_train), (X_test, Y_test) = mnist.load_data(path = 'mnist.npz')"
   ]
  },
  {
   "cell_type": "code",
   "execution_count": 58,
   "metadata": {
    "collapsed": false,
    "deletable": true,
    "editable": true
   },
   "outputs": [],
   "source": [
    "X_train = X_train.astype('float32')\n",
    "X_test = X_test.astype('float32')\n",
    "\n",
    "# Regularization\n",
    "X_train /= 255.0\n",
    "X_test /= 255.0"
   ]
  },
  {
   "cell_type": "code",
   "execution_count": 59,
   "metadata": {
    "collapsed": false,
    "deletable": true,
    "editable": true
   },
   "outputs": [],
   "source": [
    "from keras.utils import to_categorical"
   ]
  },
  {
   "cell_type": "code",
   "execution_count": 60,
   "metadata": {
    "collapsed": false,
    "deletable": true,
    "editable": true
   },
   "outputs": [
    {
     "data": {
      "text/plain": [
       "(60000,)"
      ]
     },
     "execution_count": 60,
     "metadata": {},
     "output_type": "execute_result"
    }
   ],
   "source": [
    "Y_train.shape"
   ]
  },
  {
   "cell_type": "code",
   "execution_count": 61,
   "metadata": {
    "collapsed": true,
    "deletable": true,
    "editable": true
   },
   "outputs": [],
   "source": [
    "Y_train_cat = to_categorical(Y_train)\n",
    "Y_test_cat = to_categorical(Y_test)"
   ]
  },
  {
   "cell_type": "code",
   "execution_count": 62,
   "metadata": {
    "collapsed": false,
    "deletable": true,
    "editable": true
   },
   "outputs": [
    {
     "data": {
      "text/plain": [
       "((60000, 10), (10000, 10))"
      ]
     },
     "execution_count": 62,
     "metadata": {},
     "output_type": "execute_result"
    }
   ],
   "source": [
    "Y_train_cat.shape, Y_test_cat.shape"
   ]
  },
  {
   "cell_type": "code",
   "execution_count": 63,
   "metadata": {
    "collapsed": false,
    "deletable": true,
    "editable": true
   },
   "outputs": [],
   "source": [
    "X_train = X_train.reshape(X_train.shape[0], -1, 1)\n",
    "X_test = X_test.reshape(X_test.shape[0], -1, 1)"
   ]
  },
  {
   "cell_type": "code",
   "execution_count": 64,
   "metadata": {
    "collapsed": false,
    "deletable": true,
    "editable": true
   },
   "outputs": [
    {
     "data": {
      "text/plain": [
       "((60000, 784, 1), (10000, 784, 1))"
      ]
     },
     "execution_count": 64,
     "metadata": {},
     "output_type": "execute_result"
    }
   ],
   "source": [
    "X_train.shape, X_test.shape"
   ]
  },
  {
   "cell_type": "code",
   "execution_count": 65,
   "metadata": {
    "collapsed": true,
    "deletable": true,
    "editable": true
   },
   "outputs": [],
   "source": [
    "from keras.models import Model\n",
    "from keras.layers import Input, LSTM, Dense\n",
    "import keras.backend as K"
   ]
  },
  {
   "cell_type": "code",
   "execution_count": 66,
   "metadata": {
    "collapsed": true,
    "deletable": true,
    "editable": true
   },
   "outputs": [],
   "source": [
    "K.clear_session()"
   ]
  },
  {
   "cell_type": "code",
   "execution_count": 67,
   "metadata": {
    "collapsed": true,
    "deletable": true,
    "editable": true
   },
   "outputs": [],
   "source": [
    "inp = Input(shape = X_train.shape[1:])"
   ]
  },
  {
   "cell_type": "code",
   "execution_count": 68,
   "metadata": {
    "collapsed": true,
    "deletable": true,
    "editable": true
   },
   "outputs": [],
   "source": [
    "net = LSTM(units = 32)(inp)\n",
    "prediction = Dense(units = 10, \n",
    "                   activation = 'softmax')(net)\n",
    "\n",
    "model = Model(inputs = inp, \n",
    "              outputs = prediction)\n",
    "model.compile(optimizer = 'adam', \n",
    "              loss = 'categorical_crossentropy', \n",
    "              metrics = ['accuracy'])"
   ]
  },
  {
   "cell_type": "code",
   "execution_count": 69,
   "metadata": {
    "collapsed": false,
    "deletable": true,
    "editable": true
   },
   "outputs": [
    {
     "name": "stdout",
     "output_type": "stream",
     "text": [
      "_________________________________________________________________\n",
      "Layer (type)                 Output Shape              Param #   \n",
      "=================================================================\n",
      "input_1 (InputLayer)         (None, 784, 1)            0         \n",
      "_________________________________________________________________\n",
      "lstm_1 (LSTM)                (None, 32)                4352      \n",
      "_________________________________________________________________\n",
      "dense_1 (Dense)              (None, 10)                330       \n",
      "=================================================================\n",
      "Total params: 4,682\n",
      "Trainable params: 4,682\n",
      "Non-trainable params: 0\n",
      "_________________________________________________________________\n"
     ]
    }
   ],
   "source": [
    "model.summary()"
   ]
  },
  {
   "cell_type": "code",
   "execution_count": null,
   "metadata": {
    "collapsed": true,
    "deletable": true,
    "editable": true
   },
   "outputs": [],
   "source": [
    "early_stop = EarlyStopping(monitor = 'loss', \n",
    "                           patience = 1, \n",
    "                           verbose = 1)"
   ]
  },
  {
   "cell_type": "code",
   "execution_count": null,
   "metadata": {
    "collapsed": false,
    "deletable": true,
    "editable": true
   },
   "outputs": [
    {
     "name": "stdout",
     "output_type": "stream",
     "text": [
      "Train on 42000 samples, validate on 18000 samples\n",
      "Epoch 1/2\n",
      "42000/42000 [==============================] - 395s - loss: 2.2995 - acc: 0.1183 - val_loss: 2.2751 - val_acc: 0.1223\b\b\b\b\b\b\b\b\b\b\b\b\b\b\b\b\b\b\b\b\b\b\b\b\b\b\b\b\b\b\b\b\b\b\b\b\b\b\b\b\b\b\b\b\b\b\b\b\b\b\b\b\b\b\b\b\b\b\b\b\b\b\b\b\b\b\b\b\b\b\b\b\b\b\b\b\b\b\b\b\b\b\b\b\b\b\b\b\b\b\b\b\b\b\b\b\b\b\b\b\b\b\b\b\b\b\b\b\b\b\b\b\b\b\b\b\b\b\b\b\b\b\b\b\b\b\b\b\b\b\b\b\b\b\b\b\b\b\b\b\b\b\b\b\b\b\b\b\b\b\b\b\b\b\b\b\b\b\b\b\b\b\b\b\b\b\b\b\b\b\b\b\b\b\b\b\b\b\b\b\b\b\b\b\b\b\b\b\b\b\b\b\b\b\b\b\b\b\b\b\b\b\b\b\b\b\b\b\b\b\b\b\b\b\b\b\b\b\b\b\b\b\b\b\b\b\b\b\b\b\b\b\b\b\b\b\b\b\b\b\b\b\b\b\b\b\b\b\b\b\b\b\b\b\b\b\b\b\b\b\b\b\b\b\b\b\b\b\b\b\b\b\b\b\b\b\b\b\b\b\b\b\b\b\b\b\b\b\b\b\b\b\b\b\b\b\b\b\b\b\b\b\b\b\b\b\b\b\b\b\b\b\b\b\b\b\b\b\b\b\b\b\b\b\b\b\b\b\b\b\b\b\b\b\b\b\b\b\b\b\b\b\b\b\b\b\b\b\b\b\b\b\b\b\b\b\b\b\b\b\b\b\b\b\b\b\b\b\b\b\b\b\b\b\b\b\b\b\b\b\b\b\b\b\b\b\b\b\b\b\b\b\b\b\b\b\b\b\b\b\b\b\b\b\b\b\b\b\b\b\b\b\b\b\b\b\b\b\b\b\b\b\b\b\b\b\b\b\b\b\b\b\b\b\b\b\b\b\b\b\b\b\b\b\b\b\b\b\b\b\b\b\b\b\b\b\b\b\b\b\b\b\b\b\b\b\b\b\b\b\b\b\b\b\b\b\b\b\b\b\b\b\b\b\b\b\b\b\b\b\b\b\b\b\b\b\b\b\b\b\b\b\b\b\b\b\b\b\b\b\b\b\b\b\b\b\b\b\b\b\b\b\b\b\b\b\b\b\b\b\b\b\b\b\b\b\b\b\b\b\b\b\b\b\b\b\b\b\b\b\b\b\b\b\b\b\b\b\b\b\b\b\b\b\b\b\b\b\b\b\b\b\b\b\b\b\b\b\b\b\b\b\b\b\b\b\b\b\b\b\b\b\b\b\b\b\b\b\b\b\b\b\b\b\b\b\b\b\b\b\b\b\b\b\b\b\b\b\b\b\b\b\b\b\b\b\b\b\b\b\b\b\b\b\b\b\b\b\b\b\b\b\b\b\b\b\b\b\b\b\b\b\b\b\b\b\b\b\b\b\b\b\b\b\b\b\b\b\b\b\b\b\b\b\b\b\b\b\b\b\b\b\b\b\b\b\b\b\b\b\b\b\b\b\b\b\b\b\b\b\b\b\b\b\b\b\b\b\b\b\b\b\b\b\b\b\b\b\b\b\b\b\b\b\b\b\b\b\b\b\b\b\b\b\b\b\b\b\b\b\b\b\b\b\b\b\b\b\b\b\b\b\b\b\b\b\b\b\b\b\b\b\b\b\b\b\b\b\b\b\b\b\b\b\b\b\b\b\b\b\b\b\b\b\b\b\b\b\b\b\b\b\b\b\b\b\b\b\b\b\b\b\b\b\b\b\b\b\b\b\b\b\b\b\b\b\b\b\b\b\b\b\b\b\b\b\b\b\b\b\b\b\b\b\b\b\b\b\b\b\b\b\b\b\b\b\b\b\b\b\b\b\b\b\b\b\b\b\b\b\b\b\b\b\b\b\b\b\b\b\b\b\b\b\b\b\b\b\b\b\b\b\b\b\b\b\b\b\b\b\b\b\b\b\b\b\b\b\b\b\b\b\b\b\b\b\b\b\b\b\b\b\b\b\b\b\b\b\b\b\b\b\b\b\b\b\b\b\b\b\b\b\b\b\b\b\b\b\b\b\b\b\b\b\b\b\b\b\b\b\b\b\b\b\b\b\b\b\b\b\b\b\b\b\b\b\b\b\b\b\b\b\b\b\b\b\b\b\b\b\b\b\b\b\b\b\b\b\b\b\b\b\b\b\b\b\b\b\b\b\b\b\b\b\b\b\b\b\b\b\b\b\b\b\b\b\b\b\b\b\b\b\b\b\b\b\b\b\b\b\b\b\b\b\b\b\b\b\b\b\b\b\b\b\b\b\b\b\b\b\b\b\b\b\b\b\b\b\b\b\b\b\b\b\b\b\b\b\b\b\b\b\b\b\b\b\b\b\b\b\b\b\b\b\b\b\b\b\b\b\b\b\b\b\b\b\b\b\b\b\b\b\b\b\b\b\b\b\b\b\b\b\b\b\b\b\b\b\b\b\b\b\b\b\b\b\b\b\b\b\b\b\b\b\b\b\b\b\b\b\b\b\b\b\b\b\b\b\b\b\b\b\b\b\b\b\b\b\b\b\b\b\b\b\b\b\b\b\b\b\b\b\b\b\b\b\b\b\b\b\b\b\b\b\b\b\b\b\b\b\b\b\b\b\b\b\b\b\b\b\b\b\b\b\b\b\b\b\b\b\b\b\b\b\b\b\b\b\b\b\b\b\b\b\b\b\b\b\b\b\b\b\b\b\b\b\b\b\b\b\b\b\b\b\b\b\b\b\b\b\b\b\b\b\b\b\b\b\b\b\b\b\b\b\b\b\b\b\b\b\b\b\b\b\b\b\b\b\b\b\b\b\b\b\b\b\b\b\b\b\b\b\b\b\b\b\b\b\b\b\b\b\b\b\b\b\b\b\b\b\b\b\b\b\b\b\b\b\b\b\b\b\b\b\b\b\b\b\b\b\b\b\b\b\b\b\b\b\b\b\b\b\b\b\b\b\b\b\b\b\b\b\b\b\b\b\b\b\b\b\b\b\b\b\b\b\b\b\b\b\b\b\b\b\b\b\b\b\b\b\b\b\b\b\b\b\b\b\b\b\b\b\b\b\b\b\b\b\b\b\b\b\b\b\b\b\b\b\b\b\b\b\b\b\b\b\b\b\b\b\b\b\b\b\b\b\b\b\b\b\b\b\b\b\b\b\b\b\b\b\b\b\b\b\b\b\b\b\b\b\b\b\b\b\b\b\b\b\b\b\b\b\b\b\b\b\b\b\b\b\b\b\b\b\b\b\b\b\b\b\b\b\b\b\b\b\b\b\b\b\b\b\b\b\b\b\b\b\b\b\b\b\b\b\b\b\b\b\b\b\b\b\b\b\b\b\b\b\b\b\b\b\b\b\b\b\b\b\b\b\b\b\b\b\b\b\b\b\b\b\b\b\b\b\b\b\b\b\b\b\b\b\b\b\b\b\b\b\b\b\b\b\b\b\b\b\b\b\b\b\b\b\b\b\b\b\b\b\b\b\b\b\b\b\b\b\b\b\b\b\b\b\b\b\b\b\b\b\b\b\b\b\b\b\b\b\b\b\b\b\b\b\b\b\b\b\b\b\b\b\b\b\b\b\b\b\b\b\b\b\b\b\b\b\b\b\b\b\b\b\b\b\b\b\b\b\b\b\b\b\b\b\b\b\b\b\b\b\b\b\b\b\b\b\b\b\b\b\b\b\b\b\b\b\b\b\b\b\b\b\b\b\b\b\b\b\b\b\b\b\b\b\b\b\b\b\b\b\b\b\b\b\b\b\b\b\b\b\b\b\b\b\b\b\b\b\b\b\b\b\b\b\b\b\b\b\b\b\b\b\b\b\b\b\b\b\b\b\b\b\b\b\b\b\b\b\b\b\b\b\b\b\b\b\b\b\b\b\b\b\b\b\b\b\b\b\b\b\b\b\b\b\b\b\b\b\b\b\b\b\b\b\b\b\b\b\b\b\b\b\b\b\b\b\b\b\b\b\b\b\b\b\b\b\b\b\b\b\b\b\b\b\b\b\b\b\b\b\b\b\b\b\b\b\b\b\b\b\b\b\b\b\b\b\b\b\b\b\b\b\b\b\b\b\b\b\b\b\b\b\b\b\b\b\b\b\b\b\b\b\b\b\b\b\b\b\b\b\b\b\b\b\b\b\b\b\b\b\b\b\b\b\b\b\b\b\b\b\b\b\b\b\b\b\b\b\b\b\b\b\b\b\b\b\b\b\b\b\b\b\b\b\b\b\b\b\b\b\b\b\b\b\b\b\b\b\b\b\b\b\b\b\b\b\b\b\b\b\b\b\b\b\b\b\b\b\b\b\b\b\b\b\b\b\b\b\b\b\b\b\b\b\b\b\b\b\b\b\b\b\b\b\b\b\b\b\b\b\b\b\b\b\b\b\b\b\b\b\b\b\b\b\b\b\b\b\b\b\b\b\b\b\b\b\b\b\b\b\b\b\b\b\b\b\b\b\b\b\b\b\b\b\b\b\b\b\b\b\b\b\b\b\b\b\b\b\b\b\b\b\b\b\b\b\b\b\b\b\b\b\b\b\b\b\b\b\b\b\b\b\b\b\b\b\b\b\b\b\b\b\b\b\b\b\b\b\b\b\b\b\b\b\b\b\b\b\b\b\b\b\b\b\b\b\b\b\b\b\b\b\b\b\b\b\b\b\b\b\b\b\b\b\b\b\b\b\b\b\b\b\b\b\b\b\b\b\b\b\b\b\b\b\b\b\b\b\b\b\b\b\b\b\b\b\b\b\b\b\b\b\b\b\b\b\b\b\b\b\b\b\b\b\b\b\b\b\b\b\b\b\b\b\b\b\b\b\b\b\b\b\b\b\b\b\b\b\b\b\b\b\b\b\b\b\b\b\b\b\b\b\b\b\b\b\b\b\b\b\b\b\b\b\b\b\b\b\b\b\b\b\b\b\b\b\b\b\b\b\b\b\b\b\b\b\b\b\b\b\b\b\b\b\b\b\b\b\b\b\b\b\b\b\b\b\b\b\b\b\b\b\b\b\b\b\b\b\b\b\b\b\b\b\b\b\b\b\b\b\b\b\b\b\b\b\b\b\b\b\b\b\b\b\b\b\b\b\b\b\b\b\b\b\b\b\b\b\b\b\b\b\b\b\b\b\b\b\b\b\b\b\b\b\b\b\b\b\b\b\b\b\b\b\b\b\b\b\b\b\b\b\b\b\b\b\b\b\b\b\b\b\b\b\b\b\b\b\b\b\b\b\b\b\b\b\b\b\b\b\b\b\b\b\b\b\b\b\b\b\b\b\b\b\b\b\b\b\b\b\b\b\b\b\b\b\b\b\b\b\b\b\b\b\b\b\b\b\b\b\b\b\b\b\b\b\b\b\b\b\b\b\b\b\b\b\b\b\b\b\b\b\b\b\b\b\b\b\b\b\b\b\b\b\b\b\b\b\b\b\b\b\b\b\b\b\b\b\b\b\b\b\b\b\b\b\b\b\b\b\b\b\b\b\b\b\b\b\b\b\b\b\b\b\b\b\b\b\b\b\b\b\b\b\b\b\b\b\b\b\b\b\b\b\b\b\b\b\b\b\b\b\b\b\b\b\b\b\b\b\b\b\b\b\b\b\b\b\b\b\b\b\b\b\b\b\b\b\b\b\b\b\b\b\b\b\b\b\b\b\b\b\b\b\b\b\b\b\b\b\b\b\b\b\b\b\b\b\b\b\b\b\b\b\b\b\b\b\b\b\b\b\b\b\b\b\b\b\b\b\b\b\b\b\b\b\b\b\b\b\b\b\b\b\b\b\b\b\b\b\b\b\b\b\b\b\b\b\b\b\b\b\b\b\b\b\b\b\b\b\b\b\b\b\b\b\b\b\b\b\b\b\b\b\b\b\b\b\b\b\b\b\b\b\b\b\b\b\b\b\b\b\b\b\b\b\b\b\b\b\b\b\b\b\b\b\b\b\b\b\b\b\b\b\b\b\b\b\b\b\b\b\b\b\b\b\b\b\b\b\b\b\b\b\b\b\b\b\b\b\b\b\b\b\b\b\b\b\b\b\b\b\b\b\b\b\b\b\b\b\b\b\b\b\b\b\b\b\b\b\b\b\b\b\b\b\b\b\b\b\b\b\b\b\b\b\b\b\b\b\b\b\b\b\b\b\b\b\b\b\b\b\b\b\b\b\b\b\b\b\b\b\b\b\b\b\b\b\b\b\b\b\b\b\b\b\b\b\b\b\b\b\b\b\b\b\b\b\b\b\b\b\b\b\b\b\b\b\b\b\b\b\b\b\b\b\b\b\b\b\b\b\b\b\b\b\b\b\b\b\b\b\b\b\b\b\b\b\b\b\b\b\b\b\b\b\b\b\b\b\b\b\b\b\b\b\b\b\b\b\b\b\b\b\b\b\b\b\b\b\b\b\b\b\b\b\b\b\b\b\b\b\b\b\b\b\b\b\b\b\b\b\b\b\b\b\b\b\b\b\b\b\b\b\b\b\b\b\b\b\b\b\b\b\b\b\b\b\b\b\b\b\b\b\b\b\b\b\b\b\b\b\b\b\b\b\b\b\b\b\b\b\b\b\b\b\b\b\b\b\b\b\b\b\b\b\b\b\b\b\b\b\b\b\b\b\b\b\b\b\b\b\b\b\b\b\b\b\b\b\b\b\b\b\b\b\b\b\b\b\b\b\b\b\b\b\b\b\b\b\b\b\b\b\b\b\b\b\b\b\b\b\b\b\b\b\b\b\b\b\b\b\b\b\b\b\b\b\b\b\b\b\b\b\b\b\b\b\b\b\b\b\b\b\b\b\b\b\b\b\b\b\b\b\b\b\b\b\b\b\b\b\b\b\b\b\b\b\b\b\b\b\b\b\b\b\b\b\b\b\b\b\b\b\b\b\b\b\b\b\b\b\b\b\b\b\b\b\b\b\b\b\b\b\b\b\b\b\b\b\b\b\b\b\b\b\b\b\b\b\b\b\b\b\b\b\b\b\b\b\b\b\b\b\b\b\b\b\b\b\b\b\b\b\b\b\b\b\b\b\b\b\b\b\b\b\b\b\b\b\b\b\b\b\b\b\b\b\b\b\b\b\b\b\b\b\b\b\b\b\b\b\b\b\b\b\b\b\b\b\b\b\b\b\b\b\b\b\b\b\b\b\b\b\b\b\b\b\b\b\b\b\b\b\b\b\b\b\b\b\b\b\b\b\b\b\b\b\b\b\b\b\b\b\b\b\b\b\b\b\b\b\b\b\b\b\b\b\b\b\b\b\b\b\b\b\b\b\b\b\b\b\b\b\b\b\b\b\b\b\b\b\b\b\b\b\b\b\b\b\b\b\b\b\b\b\b\b\b\b\b\b\b\b\b\b\b\b\b\b\b\b\b\b\b\b\b\b\b\b\b\b\b\b\b\b\b\b\b\b\b\b\b\b\b\b\b\b\b\b\b\b\b\b\b\b\b\b\b\b\b\b\b\b\b\b\b\b\b\b\b\b\b\b\b\b\b\b\b\b\b\b\b\b\b\b\b\b\b\b\b\b\b\b\b\b\b\b\b\b\b\b\b\b\b\b\b\b\b\b\b\b\b\b\b\b\b\b\b\b\b\b\b\b\b\b\b\b\b\b\b\b\b\b\b\b\b\b\b\b\b\b\b\b\b\b\b\b\b\b\b\b\b\n",
      "Epoch 2/2\n",
      "41000/42000 [============================>.] - ETA: 7s - loss: 2.1940 - acc: 0.2033  \b\b\b\b\b\b\b\b\b\b\b\b\b\b\b\b\b\b\b\b\b\b\b\b\b\b\b\b\b\b\b\b\b\b\b\b\b\b\b\b\b\b\b\b\b\b\b\b\b\b\b\b\b\b\b\b\b\b\b\b\b\b\b\b\b\b\b\b\b\b\b\b\b\b\b\b\b\b\b\b\b\b\b\b\b\b\b\b\b\b\b\b\b\b\b\b\b\b\b\b\b\b\b\b\b\b\b\b\b\b\b\b\b\b\b\b\b\b\b\b\b\b\b\b\b\b\b\b\b\b\b\b\b\b\b\b\b\b\b\b\b\b\b\b\b\b\b\b\b\b\b\b\b\b\b\b\b\b\b\b\b\b\b\b\b\b\b\b\b\b\b\b\b\b\b\b\b\b\b\b\b\b\b\b\b\b\b\b\b\b\b\b\b\b\b\b\b\b\b\b\b\b\b\b\b\b\b\b\b\b\b\b\b\b\b\b\b\b\b\b\b\b\b\b\b\b\b\b\b\b\b\b\b\b\b\b\b\b\b\b\b\b\b\b\b\b\b\b\b\b\b\b\b\b\b\b\b\b\b\b\b\b\b\b\b\b\b\b\b\b\b\b\b\b\b\b\b\b\b\b\b\b\b\b\b\b\b\b\b\b\b\b\b\b\b\b\b\b\b\b\b\b\b\b\b\b\b\b\b\b\b\b\b\b\b\b\b\b\b\b\b\b\b\b\b\b\b\b\b\b\b\b\b\b\b\b\b\b\b\b\b\b\b\b\b\b\b\b\b\b\b\b\b\b\b\b\b\b\b\b\b\b\b\b\b\b\b\b\b\b\b\b\b\b\b\b\b\b\b\b\b\b\b\b\b\b\b\b\b\b\b\b\b\b\b\b\b\b\b\b\b\b\b\b\b\b\b\b\b\b\b\b\b\b\b\b\b\b\b\b\b\b\b\b\b\b\b\b\b\b\b\b\b\b\b\b\b\b\b\b\b\b\b\b\b\b\b\b\b\b\b\b\b\b\b\b\b\b\b\b\b\b\b\b\b\b\b\b\b\b\b\b\b\b\b\b\b\b\b\b\b\b\b\b\b\b\b\b\b\b\b\b\b\b\b\b\b\b\b\b\b\b\b\b\b\b\b\b\b\b\b\b\b\b\b\b\b\b\b\b\b\b\b\b\b\b\b\b\b\b\b\b\b\b\b\b\b\b\b\b\b\b\b\b\b\b\b\b\b\b\b\b\b\b\b\b\b\b\b\b\b\b\b\b\b\b\b\b\b\b\b\b\b\b\b\b\b\b\b\b\b\b\b\b\b\b\b\b\b\b\b\b\b\b\b\b\b\b\b\b\b\b\b\b\b\b\b\b\b\b\b\b\b\b\b\b\b\b\b\b\b\b\b\b\b\b\b\b\b\b\b\b\b\b\b\b\b\b\b\b\b\b\b\b\b\b\b\b\b\b\b\b\b\b\b\b\b\b\b\b\b\b\b\b\b\b\b\b\b\b\b\b\b\b\b\b\b\b\b\b\b\b\b\b\b\b\b\b\b\b\b\b\b\b\b\b\b\b\b\b\b\b\b\b\b\b\b\b\b\b\b\b\b\b\b\b\b\b\b\b\b\b\b\b\b\b\b\b\b\b\b\b\b\b\b\b\b\b\b\b\b\b\b\b\b\b\b\b\b\b\b\b\b\b\b\b\b\b\b\b\b\b\b\b\b\b\b\b\b\b\b\b\b\b\b\b\b\b\b\b\b\b\b\b\b\b\b\b\b\b\b\b\b\b\b\b\b\b\b\b\b\b\b\b\b\b\b\b\b\b\b\b\b\b\b\b\b\b\b\b\b\b\b\b\b\b\b\b\b\b\b\b\b\b\b\b\b\b\b\b\b\b\b\b\b\b\b\b\b\b\b\b\b\b\b\b\b\b\b\b\b\b\b\b\b\b\b\b\b\b\b\b\b\b\b\b\b\b\b\b\b\b\b\b\b\b\b\b\b\b\b\b\b\b\b\b\b\b\b\b\b\b\b\b\b\b\b\b\b\b\b\b\b\b\b\b\b\b\b\b\b\b\b\b\b\b\b\b\b\b\b\b\b\b\b\b\b\b\b\b\b\b\b\b\b\b\b\b\b\b\b\b\b\b\b\b\b\b\b\b\b\b\b\b\b\b\b\b\b\b\b\b\b\b\b\b\b\b\b\b\b\b\b\b\b\b\b\b\b\b\b\b\b\b\b\b\b\b\b\b\b\b\b\b\b\b\b\b\b\b\b\b\b\b\b\b\b\b\b\b\b\b\b\b\b\b\b\b\b\b\b\b\b\b\b\b\b\b\b\b\b\b\b\b\b\b\b\b\b\b\b\b\b\b\b\b\b\b\b\b\b\b\b\b\b\b\b\b\b\b\b\b\b\b\b\b\b\b\b\b\b\b\b\b\b\b\b\b\b\b\b\b\b\b\b\b\b\b\b\b\b\b\b\b\b\b\b\b\b\b\b\b\b\b\b\b\b\b\b\b\b\b\b\b\b\b\b\b\b\b\b\b\b\b\b\b\b\b\b\b\b\b\b\b\b\b\b\b\b\b\b\b\b\b\b\b\b\b\b\b\b\b\b\b\b\b\b\b\b\b\b\b\b\b\b\b\b\b\b\b\b\b\b\b\b\b\b\b\b\b\b\b\b\b\b\b\b\b\b\b\b\b\b\b\b\b\b\b\b\b\b\b\b\b\b\b\b\b\b\b\b\b\b\b\b\b\b\b\b\b\b\b\b\b\b\b\b\b\b\b\b\b\b\b\b\b\b\b\b\b\b\b\b\b\b\b\b\b\b\b\b\b\b\b\b\b\b\b\b\b\b\b\b\b\b\b\b\b\b\b\b\b\b\b\b\b\b\b\b\b\b\b\b\b\b\b\b\b\b\b\b\b\b\b\b\b\b\b\b\b\b\b\b\b\b\b\b\b\b\b\b\b\b\b\b\b\b\b\b\b\b\b\b\b\b\b\b\b\b\b\b\b\b\b\b\b\b\b\b\b\b\b\b\b\b\b\b\b\b\b\b\b\b\b\b\b\b\b\b\b\b\b\b\b\b\b\b\b\b\b\b\b\b\b\b\b\b\b\b\b\b\b\b\b\b\b\b\b\b\b\b\b\b\b\b\b\b\b\b\b\b\b\b\b\b\b\b\b\b\b\b\b\b\b\b\b\b\b\b\b\b\b\b\b\b\b\b\b\b\b\b\b\b\b\b\b\b\b\b\b\b\b\b\b\b\b\b\b\b\b\b\b\b\b\b\b\b\b\b\b\b\b\b\b\b\b\b\b\b\b\b\b\b\b\b\b\b\b\b\b\b\b\b\b\b\b\b\b\b\b\b\b\b\b\b\b\b\b\b\b\b\b\b\b\b\b\b\b\b\b\b\b\b\b\b\b\b\b\b\b\b\b\b\b\b\b\b\b\b\b\b\b\b\b\b\b\b\b\b\b\b\b\b\b\b\b\b\b\b\b\b\b\b\b\b\b\b\b\b\b\b\b\b\b\b\b\b\b\b\b\b\b\b\b\b\b\b\b\b\b\b\b\b\b\b\b\b\b\b\b\b\b\b\b\b\b\b\b\b\b\b\b\b\b\b\b\b\b\b\b\b\b\b\b\b\b\b\b\b\b\b\b\b\b\b\b\b\b\b\b\b\b\b\b\b\b\b\b\b\b\b\b\b\b\b\b\b\b\b\b\b\b\b\b\b\b\b\b\b\b\b\b\b\b\b\b\b\b\b\b\b\b\b\b\b\b\b\b\b\b\b\b\b\b\b\b\b\b\b\b\b\b\b\b\b\b\b\b\b\b\b\b\b\b\b\b\b\b\b\b\b\b\b\b\b\b\b\b\b\b\b\b\b\b\b\b\b\b\b\b\b\b\b\b\b\b\b\b\b\b\b\b\b\b\b\b\b\b\b\b\b\b\b\b\b\b\b\b\b\b\b\b\b\b\b\b\b\b\b\b\b\b\b\b\b\b\b\b\b\b\b\b\b\b\b\b\b\b\b\b\b\b\b\b\b\b\b\b\b\b\b\b\b\b\b\b\b\b\b\b\b\b\b\b\b\b\b\b\b\b\b\b\b\b\b\b\b\b\b\b\b\b\b\b\b\b\b\b\b\b\b\b\b\b\b\b\b\b\b\b\b\b\b\b\b\b\b\b\b\b\b\b\b\b\b\b\b\b\b\b\b\b\b\b\b\b\b\b\b\b\b\b\b\b\b\b\b\b\b\b\b\b\b\b\b\b\b\b\b\b\b\b\b\b\b\b\b\b\b\b\b\b\b\b\b\b\b\b\b\b\b\b\b\b\b\b\b\b\b\b\b\b\b\b\b\b\b\b\b\b\b\b\b\b\b\b\b\b\b\b\b\b\b\b\b\b\b\b\b\b\b\b\b\b\b\b\b\b\b\b\b\b\b\b\b\b\b\b\b\b\b\b\b\b\b\b\b\b\b\b\b\b\b\b\b\b\b\b\b\b\b\b\b\b\b\b\b\b\b\b\b\b\b\b\b\b\b\b\b\b\b\b\b\b\b\b\b\b\b\b\b\b\b\b\b\b\b\b\b\b\b\b\b\b\b\b\b\b\b\b\b\b\b\b\b\b\b\b\b\b\b\b\b\b\b\b\b\b\b\b\b\b\b\b\b\b\b\b\b\b\b\b\b\b\b\b\b\b\b\b\b\b\b\b\b\b\b\b\b\b\b\b\b\b\b\b\b\b\b\b\b\b\b\b\b\b\b\b\b\b\b\b\b\b\b\b\b\b\b\b\b\b\b\b\b\b\b\b\b\b\b\b\b\b\b\b\b\b\b\b\b\b\b\b\b\b\b\b\b\b\b\b\b\b\b\b\b\b\b\b\b\b\b\b\b\b\b\b\b\b\b\b\b\b\b\b\b\b\b\b\b\b\b\b\b\b\b\b\b\b\b\b\b\b\b\b\b\b\b\b\b\b\b\b\b\b\b\b\b\b\b\b\b\b\b\b\b\b\b\b\b\b\b\b\b\b\b\b\b\b\b\b\b\b\b\b\b\b\b\b\b\b\b\b\b\b\b\b\b\b\b\b\b\b\b\b\b\b\b\b\b\b\b\b\b\b\b\b\b\b\b\b\b\b\b\b\b\b\b\b\b\b\b\b\b\b\b\b\b\b\b\b\b\b\b\b\b\b\b\b\b\b\b\b\b\b\b\b\b\b\b\b\b\b\b\b\b\b\b\b\b\b\b\b\b\b\b\b\b\b\b\b\b\b\b\b\b\b\b\b\b\b\b\b\b\b\b\b\b\b\b\b\b\b\b\b\b\b\b\b\b\b\b\b\b\b\b\b\b\b\b\b\b\b\b\b\b\b\b\b\b\b\b\b\b\b\b\b\b\b\b\b\b\b\b\b\b\b\b\b\b\b\b\b\b\b\b\b\b\b\b\b\b\b\b\b\b\b\b\b\b\b\b\b\b\b\b\b\b\b\b\b\b\b\b\b\b\b\b\b\b\b\b\b\b\b\b\b\b\b\b\b\b\b\b\b\b\b\b\b\b\b\b\b\b\b\b\b\b\b\b\b\b\b\b\b\b\b\b\b\b\b\b\b\b\b\b\b\b\b\b\b\b\b\b\b\b\b\b\b\b\b\b\b\b\b\b\b\b\b\b\b\b\b\b\b\b\b\b\b\b\b\b\b\b\b\b\b\b\b\b\b\b\b\b\b\b\b\b\b\b\b\b\b\b\b\b\b\b\b\b\b\b\b\b\b\b\b\b\b\b\b\b\b\b\b\b\b\b\b\b\b\b\b\b\b\b\b\b\b\b\b\b\b\b\b\b\b\b\b\b\b\b\b\b\b\b\b\b\b\b\b\b\b\b\b\b\b\b\b\b\b\b\b\b\b\b\b\b\b\b\b\b\b\b\b\b\b\b\b\b\b\b\b\b\b\b\b\b\b\b\b\b\b\b\b\b\b\b\b\b\b\b\b\b\b\b\b\b\b\b\b\b\b\b\b\b\b\b\b\b\b\b\b\b\b\b\b\b\b\b\b\b\b\b\b\b\b\b\b\b\b\b\b\b\b\b\b\b\b\b\b\b\b\b\b\b\b\b\b\b\b\b\b\b\b\b\b\b\b\b\b\b\b\b\b\b\b\b\b\b\b\b\b\b\b\b\b\b\b\b\b\b\b\b\b\b\b\b\b\b\b\b\b\b\b\b\b\b\b\b\b\b\b\b\b\b\b\b\b\b\b\b\b\b\b\b\b\b\b\b\b\b\b\b\b\b\b\b\b\b\b\b\b\b\b\b\b\b\b\b\b\b\b\b\b\b\b\b\b\b\b\b\b\b\b\b\b\b\b\b\b\b\b\b\b\b\b\b\b\b\b\b\b\b\b\b\b\b\b\b\b\b\b\b\b\b\b\b\b\b\b\b\b\b\b\b\b\b\b\b\b\b\b\b\b\b\b\b\b\b\b\b\b\b\b\b\b\b\b\b\b\b\b\b\b\b\b\b\b\b\b\b\b\b\b\b\b\b\b\b\b\b\b\b\b\b\b\b\b\b\b\b\b\b\b\b\b\b\b\b\b\b\b\b\b\b\b\b\b\b\b\b\b\b\b\b\b\b\b\b\b\b\b\b\b\b\b\b\b\b\b\b\b\b\b\b\b\b\b\b\b\b\b\b\b\b\b\b\b\b\b\b\b\b\b\b\b\b\b\b\b\b\b\b\b\b\b\b\b\b\b\b\b\b\b\b\b\b\b\b\b\b\b\b\b\b\b\b\b\b\b\b\b\b\b\b\b\b\b\b\b\b\b\b\b\b\b\b\b\b\b\b\b\b\b\b\b\b\b\b\b\b\b\b\b\b\b\b\b\b\b\b\b\b\b\b\b\b\b\b\b\b\b\b\b\b\b\b\b\b\b\b\b\b\b\b\b\b\b\b\b\b\b\b\b\b\b\b\b\b\b\b\b\b\b\b\b\b\b\b\b\b\b\b\b\b\b\b\b\b\b\b\b\b\b\b\b\b\b\b\b\b\b\b\b\b\b\b\b\b\b\b\b\b\b\b\b\b\b\b\b\b\b\b\b\b\b\b\b\b\b\b\b\b\b\b\b\b\b\b\b\b\b\b\b\b\b\b\b\b\b\b\b\b\b\b\b\b\b\b\b\b\b\b\b\b\b\b\b\b\b\b\b\b\b\b\b\b\b\b\b\b\b\b\b\b\b\b\b\b\b\b\b\b\b\b\b\b\b\b\b\b\b\b\b\b\b\b\b\b\b\b\b\b\b\b\b\b\b\b\b\b\b\b\b\b\b\b\b\b\b\b\b\b\b\b\b\b\b\b\b\b\b\b\b\b\b\b\b\b\b\b\b\b\b\b\b\b\b\b\b\b\b\b\b\b\b\b\b\b\b\b\b\b\b\b\b\b\b\b\b\b\b\b\b\b\b\b\b\b\b\b\b\b\b\b\b\b\b\b\b\b\b\b\b\b\b\b\b\b\b\b\b\b\b\b\b\b\b\b\b\b\b\b\b\b\b\b\b\b\b\b\b\b\b\b\b\b\b\b\b\b\b\b\b\b\b"
     ]
    }
   ],
   "source": [
    "model.fit(X_train, \n",
    "          Y_train_cat, \n",
    "          epochs = 2,\n",
    "          batch_size = 1000,\n",
    "          validation_split = 0.3,\n",
    "          verbose = 1, \n",
    "          callbacks = [early_stop])"
   ]
  },
  {
   "cell_type": "code",
   "execution_count": null,
   "metadata": {
    "collapsed": true,
    "deletable": true,
    "editable": true
   },
   "outputs": [],
   "source": [
    "model.evaluate(X_test, Y_test_cat)"
   ]
  }
 ],
 "metadata": {
  "kernelspec": {
   "display_name": "Python 3",
   "language": "python",
   "name": "python3"
  },
  "language_info": {
   "codemirror_mode": {
    "name": "ipython",
    "version": 3
   },
   "file_extension": ".py",
   "mimetype": "text/x-python",
   "name": "python",
   "nbconvert_exporter": "python",
   "pygments_lexer": "ipython3",
   "version": "3.5.2+"
  }
 },
 "nbformat": 4,
 "nbformat_minor": 2
}
